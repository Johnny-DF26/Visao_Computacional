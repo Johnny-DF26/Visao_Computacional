{
  "nbformat": 4,
  "nbformat_minor": 0,
  "metadata": {
    "colab": {
      "provenance": [],
      "gpuType": "T4",
      "authorship_tag": "ABX9TyNAD5gt8uT5Puvxb3BG1jUP",
      "include_colab_link": true
    },
    "kernelspec": {
      "name": "python3",
      "display_name": "Python 3"
    },
    "language_info": {
      "name": "python"
    },
    "accelerator": "GPU"
  },
  "cells": [
    {
      "cell_type": "markdown",
      "metadata": {
        "id": "view-in-github",
        "colab_type": "text"
      },
      "source": [
        "<a href=\"https://colab.research.google.com/github/Johnny-DF26/Visao_Computacional/blob/main/Autoencoders_RedeNeural.ipynb\" target=\"_parent\"><img src=\"https://colab.research.google.com/assets/colab-badge.svg\" alt=\"Open In Colab\"/></a>"
      ]
    },
    {
      "cell_type": "markdown",
      "source": [
        "# Autoencoders"
      ],
      "metadata": {
        "id": "UtBv_mjZsJ3g"
      }
    },
    {
      "cell_type": "markdown",
      "source": [
        "## Bibliotecas"
      ],
      "metadata": {
        "id": "WUmP8TfwsJU6"
      }
    },
    {
      "cell_type": "code",
      "execution_count": 3,
      "metadata": {
        "id": "CnwgNPmSsE2I"
      },
      "outputs": [],
      "source": [
        "import numpy as np\n",
        "import keras\n",
        "import tensorflow as tf\n",
        "import matplotlib.pyplot as plt\n",
        "from keras.datasets import mnist"
      ]
    },
    {
      "cell_type": "markdown",
      "source": [
        "## Base de Dados"
      ],
      "metadata": {
        "id": "Vn9wIgDvsY6V"
      }
    },
    {
      "cell_type": "code",
      "source": [
        "(X_treino, y_treino), (X_teste, y_teste) = keras.datasets.mnist.load_data()"
      ],
      "metadata": {
        "id": "oqXgGomjsUR7"
      },
      "execution_count": 26,
      "outputs": []
    },
    {
      "cell_type": "code",
      "source": [
        "X_treino.shape, X_teste.shape, y_treino.shape, y_teste.shape"
      ],
      "metadata": {
        "colab": {
          "base_uri": "https://localhost:8080/"
        },
        "id": "Cm8d0gNKtBgy",
        "outputId": "b8da0dca-f628-4f13-9e17-a0d3adc08d9d"
      },
      "execution_count": 27,
      "outputs": [
        {
          "output_type": "execute_result",
          "data": {
            "text/plain": [
              "((60000, 28, 28), (10000, 28, 28), (60000,), (10000,))"
            ]
          },
          "metadata": {},
          "execution_count": 27
        }
      ]
    },
    {
      "cell_type": "markdown",
      "source": [
        "## Pré-Processamento dos dados"
      ],
      "metadata": {
        "id": "3ZTa4rkjt4HN"
      }
    },
    {
      "cell_type": "code",
      "source": [
        "X_treino = X_treino / 255\n",
        "X_teste = X_teste / 255"
      ],
      "metadata": {
        "id": "wN9ntRrtu869"
      },
      "execution_count": 28,
      "outputs": []
    },
    {
      "cell_type": "code",
      "source": [
        "X_treino = X_treino.reshape(X_treino.shape[0], X_treino.shape[1] * X_treino.shape[2])\n",
        "X_teste = X_teste.reshape(X_teste.shape[0], X_teste.shape[1] * X_teste.shape[2])"
      ],
      "metadata": {
        "id": "peoy-Ka_tLfE"
      },
      "execution_count": 29,
      "outputs": []
    },
    {
      "cell_type": "code",
      "source": [
        "X_treino.shape, X_teste.shape"
      ],
      "metadata": {
        "colab": {
          "base_uri": "https://localhost:8080/"
        },
        "id": "OcT6FEaUuUlS",
        "outputId": "23e313f6-ad8b-495e-c9ab-d45d27ff296b"
      },
      "execution_count": 30,
      "outputs": [
        {
          "output_type": "execute_result",
          "data": {
            "text/plain": [
              "((60000, 784), (10000, 784))"
            ]
          },
          "metadata": {},
          "execution_count": 30
        }
      ]
    },
    {
      "cell_type": "code",
      "source": [
        "# 784 - 128 - 64 - 32 - 64 - 128 - 784"
      ],
      "metadata": {
        "id": "mfWx480WwfwO"
      },
      "execution_count": 31,
      "outputs": []
    },
    {
      "cell_type": "markdown",
      "source": [
        "## Construção e treinamento do autoencoder"
      ],
      "metadata": {
        "id": "MoargZr3zL1J"
      }
    },
    {
      "cell_type": "code",
      "source": [
        "autoencoder = keras.models.Sequential()\n",
        "\n",
        "# Codificação\n",
        "autoencoder.add(keras.layers.Dense(units=128, activation='relu', input_shape=(784,)))\n",
        "autoencoder.add(keras.layers.Dense(units=64, activation='relu'))\n",
        "\n",
        "# Layer Codificada\n",
        "autoencoder.add(keras.layers.Dense(units=32, activation='relu'))\n",
        "\n",
        "# Decodificação\n",
        "autoencoder.add(keras.layers.Dense(units=64, activation='relu'))\n",
        "autoencoder.add(keras.layers.Dense(units=128, activation='relu'))\n",
        "autoencoder.add(keras.layers.Dense(units=784, activation='sigmoid'))"
      ],
      "metadata": {
        "id": "mQE6-M9CuYst"
      },
      "execution_count": 35,
      "outputs": []
    },
    {
      "cell_type": "code",
      "source": [
        "autoencoder.summary()"
      ],
      "metadata": {
        "colab": {
          "base_uri": "https://localhost:8080/"
        },
        "id": "c-oGxs3Zxev8",
        "outputId": "3f9e1612-0cb3-46b5-c3d7-eeafbdf74d9d"
      },
      "execution_count": 36,
      "outputs": [
        {
          "output_type": "stream",
          "name": "stdout",
          "text": [
            "Model: \"sequential_3\"\n",
            "_________________________________________________________________\n",
            " Layer (type)                Output Shape              Param #   \n",
            "=================================================================\n",
            " dense_20 (Dense)            (None, 128)               100480    \n",
            "                                                                 \n",
            " dense_21 (Dense)            (None, 64)                8256      \n",
            "                                                                 \n",
            " dense_22 (Dense)            (None, 32)                2080      \n",
            "                                                                 \n",
            " dense_23 (Dense)            (None, 64)                2112      \n",
            "                                                                 \n",
            " dense_24 (Dense)            (None, 128)               8320      \n",
            "                                                                 \n",
            " dense_25 (Dense)            (None, 784)               101136    \n",
            "                                                                 \n",
            "=================================================================\n",
            "Total params: 222,384\n",
            "Trainable params: 222,384\n",
            "Non-trainable params: 0\n",
            "_________________________________________________________________\n"
          ]
        }
      ]
    },
    {
      "cell_type": "code",
      "source": [
        "autoencoder.compile(optimizer='adam', loss='binary_crossentropy', metrics=['accuracy'])\n",
        "autoencoder.fit(X_treino, X_treino, epochs=50)"
      ],
      "metadata": {
        "colab": {
          "base_uri": "https://localhost:8080/"
        },
        "id": "LsVOoxplyW5R",
        "outputId": "28ed6d83-466a-4a44-e5ce-deebeab94a34"
      },
      "execution_count": 38,
      "outputs": [
        {
          "output_type": "stream",
          "name": "stdout",
          "text": [
            "1875/1875 [==============================] - 7s 4ms/step - loss: 0.0818 - accuracy: 0.0141\n",
            "Epoch 50/50\n",
            "1875/1875 [==============================] - 7s 4ms/step - loss: 0.0817 - accuracy: 0.0140\n"
          ]
        },
        {
          "output_type": "execute_result",
          "data": {
            "text/plain": [
              "<keras.callbacks.History at 0x7da373325c90>"
            ]
          },
          "metadata": {},
          "execution_count": 38
        }
      ]
    },
    {
      "cell_type": "markdown",
      "source": [
        "### Codificação"
      ],
      "metadata": {
        "id": "_Wwh6byi3f9x"
      }
    },
    {
      "cell_type": "code",
      "source": [
        "autoencoder.input"
      ],
      "metadata": {
        "colab": {
          "base_uri": "https://localhost:8080/"
        },
        "id": "ftr52_23y3q6",
        "outputId": "a1996f06-e74b-4637-9ab5-6e5980460bf4"
      },
      "execution_count": 40,
      "outputs": [
        {
          "output_type": "execute_result",
          "data": {
            "text/plain": [
              "<KerasTensor: shape=(None, 784) dtype=float32 (created by layer 'dense_20_input')>"
            ]
          },
          "metadata": {},
          "execution_count": 40
        }
      ]
    },
    {
      "cell_type": "code",
      "source": [
        "autoencoder.get_layer('dense_22').output"
      ],
      "metadata": {
        "colab": {
          "base_uri": "https://localhost:8080/"
        },
        "id": "wCkqkWu80F-M",
        "outputId": "5fa60021-35a9-4cf3-9708-26bb5f868164"
      },
      "execution_count": 42,
      "outputs": [
        {
          "output_type": "execute_result",
          "data": {
            "text/plain": [
              "<KerasTensor: shape=(None, 32) dtype=float32 (created by layer 'dense_22')>"
            ]
          },
          "metadata": {},
          "execution_count": 42
        }
      ]
    },
    {
      "cell_type": "code",
      "source": [
        "encoder = keras.models.Model(inputs= autoencoder.input, outputs= autoencoder.get_layer('dense_22').output)"
      ],
      "metadata": {
        "id": "j4m8O_np04B2"
      },
      "execution_count": 43,
      "outputs": []
    },
    {
      "cell_type": "code",
      "source": [
        "encoder.summary()"
      ],
      "metadata": {
        "colab": {
          "base_uri": "https://localhost:8080/"
        },
        "id": "Ri16j7Dc1RY1",
        "outputId": "4305d565-6fa3-4d5e-e486-a1d40981e79c"
      },
      "execution_count": 44,
      "outputs": [
        {
          "output_type": "stream",
          "name": "stdout",
          "text": [
            "Model: \"model\"\n",
            "_________________________________________________________________\n",
            " Layer (type)                Output Shape              Param #   \n",
            "=================================================================\n",
            " dense_20_input (InputLayer)  [(None, 784)]            0         \n",
            "                                                                 \n",
            " dense_20 (Dense)            (None, 128)               100480    \n",
            "                                                                 \n",
            " dense_21 (Dense)            (None, 64)                8256      \n",
            "                                                                 \n",
            " dense_22 (Dense)            (None, 32)                2080      \n",
            "                                                                 \n",
            "=================================================================\n",
            "Total params: 110,816\n",
            "Trainable params: 110,816\n",
            "Non-trainable params: 0\n",
            "_________________________________________________________________\n"
          ]
        }
      ]
    },
    {
      "cell_type": "code",
      "source": [
        "X_teste[0].reshape(1,28,28).shape"
      ],
      "metadata": {
        "colab": {
          "base_uri": "https://localhost:8080/"
        },
        "id": "lQqdvhiE1e9D",
        "outputId": "7372c8ff-7cdc-495f-cd4b-1dcf3a97109d"
      },
      "execution_count": 49,
      "outputs": [
        {
          "output_type": "execute_result",
          "data": {
            "text/plain": [
              "(1, 28, 28)"
            ]
          },
          "metadata": {},
          "execution_count": 49
        }
      ]
    },
    {
      "cell_type": "code",
      "source": [
        "plt.imshow(X_teste[0].reshape(28,28), cmap='gray')"
      ],
      "metadata": {
        "colab": {
          "base_uri": "https://localhost:8080/",
          "height": 447
        },
        "id": "qLu6R9b61TQ9",
        "outputId": "6f8b976e-5e9b-43cc-f5b8-d6fbfebecba2"
      },
      "execution_count": 51,
      "outputs": [
        {
          "output_type": "execute_result",
          "data": {
            "text/plain": [
              "<matplotlib.image.AxesImage at 0x7da373325b40>"
            ]
          },
          "metadata": {},
          "execution_count": 51
        },
        {
          "output_type": "display_data",
          "data": {
            "text/plain": [
              "<Figure size 640x480 with 1 Axes>"
            ],
            "image/png": "[encoded data removed]"
          },
          "metadata": {}
        }
      ]
    },
    {
      "cell_type": "code",
      "source": [
        "X_teste[0].reshape(1,-1).shape"
      ],
      "metadata": {
        "colab": {
          "base_uri": "https://localhost:8080/"
        },
        "id": "6nKn1ICU1cuF",
        "outputId": "72b17b11-8eab-4401-c54e-285e64dbdb0c"
      },
      "execution_count": 52,
      "outputs": [
        {
          "output_type": "execute_result",
          "data": {
            "text/plain": [
              "(1, 784)"
            ]
          },
          "metadata": {},
          "execution_count": 52
        }
      ]
    },
    {
      "cell_type": "code",
      "source": [
        "imagem_codificada = encoder.predict(X_teste[0].reshape(1,-1))\n",
        "imagem_codificada"
      ],
      "metadata": {
        "colab": {
          "base_uri": "https://localhost:8080/"
        },
        "id": "uS1rDugy2KwR",
        "outputId": "faeb71a7-039e-438c-d82f-fbf6a6399b7e"
      },
      "execution_count": 53,
      "outputs": [
        {
          "output_type": "stream",
          "name": "stdout",
          "text": [
            "1/1 [==============================] - 0s 220ms/step\n"
          ]
        },
        {
          "output_type": "execute_result",
          "data": {
            "text/plain": [
              "array([[ 6.387881 ,  2.9441993,  3.8530366,  8.006494 ,  0.9286095,\n",
              "         5.8894496,  0.       ,  3.3373635,  4.2641354,  3.249118 ,\n",
              "         0.       ,  7.1845956,  4.867379 ,  5.227629 ,  3.6442842,\n",
              "         3.1176052,  3.3914554,  2.6289403,  0.       ,  4.2940364,\n",
              "         0.       , 10.847063 ,  4.6245465,  0.       ,  2.8207736,\n",
              "         0.       ,  2.9054155,  5.9177947,  4.6760435,  2.8732715,\n",
              "         3.4133892,  1.5840651]], dtype=float32)"
            ]
          },
          "metadata": {},
          "execution_count": 53
        }
      ]
    },
    {
      "cell_type": "code",
      "source": [
        "imagem_codificada.shape"
      ],
      "metadata": {
        "colab": {
          "base_uri": "https://localhost:8080/"
        },
        "id": "VcvATOYX2oHg",
        "outputId": "a6760d35-2bc4-4e07-99a2-e97c51e4fd39"
      },
      "execution_count": 59,
      "outputs": [
        {
          "output_type": "execute_result",
          "data": {
            "text/plain": [
              "(1, 32)"
            ]
          },
          "metadata": {},
          "execution_count": 59
        }
      ]
    },
    {
      "cell_type": "code",
      "source": [
        "plt.imshow(imagem_codificada.reshape(8,4), cmap='gray')"
      ],
      "metadata": {
        "colab": {
          "base_uri": "https://localhost:8080/",
          "height": 447
        },
        "id": "CBwmPbfk2Ukh",
        "outputId": "df880aa9-9d74-45e9-bad2-915b3cd191fa"
      },
      "execution_count": 62,
      "outputs": [
        {
          "output_type": "execute_result",
          "data": {
            "text/plain": [
              "<matplotlib.image.AxesImage at 0x7da2e4b09a80>"
            ]
          },
          "metadata": {},
          "execution_count": 62
        },
        {
          "output_type": "display_data",
          "data": {
            "text/plain": [
              "<Figure size 640x480 with 1 Axes>"
            ],
            "image/png": "[encoded data removed]"
          },
          "metadata": {}
        }
      ]
    },
    {
      "cell_type": "markdown",
      "source": [
        "### Decodificação"
      ],
      "metadata": {
        "id": "FpojRuwI3lPB"
      }
    },
    {
      "cell_type": "code",
      "source": [
        "# 1 Forma\n",
        "entrada = autoencoder.get_layer('dense_23').input\n",
        "saida = autoencoder.output"
      ],
      "metadata": {
        "id": "t-dCZ5rM2Z3W"
      },
      "execution_count": 109,
      "outputs": []
    },
    {
      "cell_type": "code",
      "source": [
        "# 2 Forma\n",
        "input_layer_decoder = keras.layers.Input(shape=(32,))\n",
        "decoder_layer1 = autoencoder.layers[3](input_layer_decoder)\n",
        "decoder_layer2 = autoencoder.layers[4](decoder_layer1)\n",
        "decoder_layer3 = autoencoder.layers[5](decoder_layer2)"
      ],
      "metadata": {
        "id": "wEFcj9J07D_Y"
      },
      "execution_count": 110,
      "outputs": []
    },
    {
      "cell_type": "code",
      "source": [
        "decoder = keras.models.Model(inputs=input_layer_decoder, outputs=decoder_layer3)"
      ],
      "metadata": {
        "id": "2Vy-zwZD3kj-"
      },
      "execution_count": 111,
      "outputs": []
    },
    {
      "cell_type": "code",
      "source": [
        "decoder.summary()"
      ],
      "metadata": {
        "colab": {
          "base_uri": "https://localhost:8080/"
        },
        "id": "ni8ET6A74cTM",
        "outputId": "89731ea2-944e-4014-c4b6-ba691e6d843d"
      },
      "execution_count": 112,
      "outputs": [
        {
          "output_type": "stream",
          "name": "stdout",
          "text": [
            "Model: \"model_10\"\n",
            "_________________________________________________________________\n",
            " Layer (type)                Output Shape              Param #   \n",
            "=================================================================\n",
            " input_11 (InputLayer)       [(None, 32)]              0         \n",
            "                                                                 \n",
            " dense_23 (Dense)            (None, 64)                2112      \n",
            "                                                                 \n",
            " dense_24 (Dense)            (None, 128)               8320      \n",
            "                                                                 \n",
            " dense_25 (Dense)            (None, 784)               101136    \n",
            "                                                                 \n",
            "=================================================================\n",
            "Total params: 111,568\n",
            "Trainable params: 111,568\n",
            "Non-trainable params: 0\n",
            "_________________________________________________________________\n"
          ]
        }
      ]
    },
    {
      "cell_type": "code",
      "source": [
        "imagem_codificada.shape"
      ],
      "metadata": {
        "colab": {
          "base_uri": "https://localhost:8080/"
        },
        "id": "U3lcv22V4erX",
        "outputId": "24b807ad-239d-4d77-fc48-37f667062f10"
      },
      "execution_count": 113,
      "outputs": [
        {
          "output_type": "execute_result",
          "data": {
            "text/plain": [
              "(1, 32)"
            ]
          },
          "metadata": {},
          "execution_count": 113
        }
      ]
    },
    {
      "cell_type": "code",
      "source": [
        "imagem_decodificada = decoder.predict(imagem_codificada)\n",
        "imagem_decodificada.shape"
      ],
      "metadata": {
        "colab": {
          "base_uri": "https://localhost:8080/"
        },
        "id": "VmDi1iWd5EZ9",
        "outputId": "949d9631-f6dc-4122-f3ef-dba8a39a602f"
      },
      "execution_count": 114,
      "outputs": [
        {
          "output_type": "stream",
          "name": "stdout",
          "text": [
            "1/1 [==============================] - 0s 48ms/step\n"
          ]
        },
        {
          "output_type": "execute_result",
          "data": {
            "text/plain": [
              "(1, 784)"
            ]
          },
          "metadata": {},
          "execution_count": 114
        }
      ]
    },
    {
      "cell_type": "code",
      "source": [
        "plt.imshow(imagem_decodificada.reshape(28,28), cmap='gray');"
      ],
      "metadata": {
        "colab": {
          "base_uri": "https://localhost:8080/",
          "height": 430
        },
        "id": "MuVM6idC5Mzv",
        "outputId": "d6bab962-2d9a-45ec-9897-90713a8e6e7c"
      },
      "execution_count": 115,
      "outputs": [
        {
          "output_type": "display_data",
          "data": {
            "text/plain": [
              "<Figure size 640x480 with 1 Axes>"
            ],
            "image/png": "[encoded data removed]"
          },
          "metadata": {}
        }
      ]
    },
    {
      "cell_type": "markdown",
      "source": [
        "## Codificação e decodificação das imagens de teste"
      ],
      "metadata": {
        "id": "xJzwPDDg-Zo3"
      }
    },
    {
      "cell_type": "code",
      "source": [
        "imagens_teste = encoder.predict(X_teste)"
      ],
      "metadata": {
        "colab": {
          "base_uri": "https://localhost:8080/"
        },
        "id": "inzon0oM5X7f",
        "outputId": "3963671a-0d28-43af-998d-23d07b6ddf73"
      },
      "execution_count": 116,
      "outputs": [
        {
          "output_type": "stream",
          "name": "stdout",
          "text": [
            "313/313 [==============================] - 1s 2ms/step\n"
          ]
        }
      ]
    },
    {
      "cell_type": "code",
      "source": [
        "imagens_teste.shape"
      ],
      "metadata": {
        "colab": {
          "base_uri": "https://localhost:8080/"
        },
        "id": "2B0eK0A09r3K",
        "outputId": "4413fa10-88e8-4a68-9c3f-c06f5cfcf033"
      },
      "execution_count": 118,
      "outputs": [
        {
          "output_type": "execute_result",
          "data": {
            "text/plain": [
              "(10000, 32)"
            ]
          },
          "metadata": {},
          "execution_count": 118
        }
      ]
    },
    {
      "cell_type": "code",
      "source": [
        "numero_img = 10\n",
        "imagens_teste = np.random.randint(0,10000, size=numero_img)\n",
        "# print(imagens_teste)\n",
        "plt.figure(figsize=(20,5))\n",
        "for i, imagem_indice in enumerate(imagens_teste):\n",
        "    ax = plt.subplot(3,10, i+1)\n",
        "    plt.imshow(X_teste[imagem_indice].reshape(28,28), cmap='gray')\n",
        "    plt.xticks(())\n",
        "    plt.yticks(())\n",
        "\n",
        "# Imagens codificadas\n",
        "\n",
        "    ax = plt.subplot(3,10,i+1+numero_img)\n",
        "    imagem_codificada = encoder.predict(X_teste[imagem_indice].reshape(1,-1), verbose=False)\n",
        "    plt.imshow(imagem_codificada.reshape(8,4), cmap='gray')\n",
        "    plt.xticks(())\n",
        "    plt.yticks(())\n",
        "\n",
        "# Imagens decodificadas\n",
        "\n",
        "    ax = plt.subplot(3,10,i+1+numero_img*2)\n",
        "    # imagem_decodificada = decoder.predict(imagem_codificada.reshape(28,28), verbose=False)\n",
        "    plt.imshow(decoder.predict(imagem_codificada, verbose=False).reshape(28,28), cmap='gray')\n",
        "    plt.xticks(())\n",
        "    plt.yticks(())"
      ],
      "metadata": {
        "colab": {
          "base_uri": "https://localhost:8080/",
          "height": 386
        },
        "id": "z2O-RN3F-Ycy",
        "outputId": "e0669711-b78f-4c58-9413-23af5b00f7cc"
      },
      "execution_count": 145,
      "outputs": [
        {
          "output_type": "display_data",
          "data": {
            "text/plain": [
              "<Figure size 2000x500 with 30 Axes>"
            ],
            "image/png": "[encoded data removed]"
          },
          "metadata": {}
        }
      ]
    },
    {
      "cell_type": "code",
      "source": [],
      "metadata": {
        "id": "Gk9WvF4x94Lf"
      },
      "execution_count": null,
      "outputs": []
    }
  ]
}