{
  "nbformat": 4,
  "nbformat_minor": 0,
  "metadata": {
    "colab": {
      "provenance": [],
      "gpuType": "T4",
      "mount_file_id": "13XHQiRPzCff1uRTJg1Z0pDEHOCjrA30V",
      "authorship_tag": "ABX9TyMKgZNsGMIR6bjAXJnz7USK",
      "include_colab_link": true
    },
    "kernelspec": {
      "name": "python3",
      "display_name": "Python 3"
    },
    "language_info": {
      "name": "python"
    },
    "accelerator": "GPU"
  },
  "cells": [
    {
      "cell_type": "markdown",
      "metadata": {
        "id": "view-in-github",
        "colab_type": "text"
      },
      "source": [
        "<a href=\"https://colab.research.google.com/github/Johnny-DF26/Deep_Learning/blob/main/Classificacao_de_emocoes(alegria_raiva).ipynb\" target=\"_parent\"><img src=\"https://colab.research.google.com/assets/colab-badge.svg\" alt=\"Open In Colab\"/></a>"
      ]
    },
    {
      "cell_type": "markdown",
      "source": [
        "## Bibliotecas"
      ],
      "metadata": {
        "id": "0foEFV6PGvYJ"
      }
    },
    {
      "cell_type": "code",
      "execution_count": 42,
      "metadata": {
        "id": "0ez3DRrcGYwz"
      },
      "outputs": [],
      "source": [
        "import pandas as pd\n",
        "import numpy as np\n",
        "import matplotlib.pyplot as plt\n",
        "import seaborn as sns\n",
        "import cv2\n",
        "import zipfile\n",
        "import keras\n",
        "from keras.preprocessing.image import ImageDataGenerator\n",
        "from keras.models import model_from_json\n",
        "from google.colab.patches import cv2_imshow\n",
        "from keras.regularizers import l2"
      ]
    },
    {
      "cell_type": "markdown",
      "source": [
        "## Extração da base de dados"
      ],
      "metadata": {
        "id": "cPOY64mIJufU"
      }
    },
    {
      "cell_type": "code",
      "source": [
        "path_zip = '/content/drive/MyDrive/Visão Computacional Guia Completo/Visão Computacional Guia Completo/Datasets/fer2013_2_classes.zip'\n",
        "with zipfile.ZipFile(file=path_zip, mode='r') as f:\n",
        "    f.extractall('./dataset')"
      ],
      "metadata": {
        "id": "IOxFLfMOHPsL"
      },
      "execution_count": 5,
      "outputs": []
    },
    {
      "cell_type": "markdown",
      "source": [
        "## Base de dados"
      ],
      "metadata": {
        "id": "5g0cWTDIJyb4"
      }
    },
    {
      "cell_type": "code",
      "source": [
        "gerador_treinamento = ImageDataGenerator(rescale=1./255, rotation_range=7, zoom_range=0.2, horizontal_flip=True)\n",
        "dataset_treinamento = gerador_treinamento.flow_from_directory('./dataset/fer2013_2_classes/train/', target_size=(48,48), shuffle=True,\n",
        "                                                              batch_size=32, class_mode='categorical')"
      ],
      "metadata": {
        "colab": {
          "base_uri": "https://localhost:8080/"
        },
        "id": "HMPCxyyUHh5f",
        "outputId": "d2f8b29d-b37a-43b3-b85b-a3a2460f7b4f"
      },
      "execution_count": 88,
      "outputs": [
        {
          "output_type": "stream",
          "name": "stdout",
          "text": [
            "Found 11210 images belonging to 2 classes.\n"
          ]
        }
      ]
    },
    {
      "cell_type": "code",
      "source": [
        "gerador_teste = ImageDataGenerator(rescale=1./255)\n",
        "dataset_teste = gerador_teste.flow_from_directory('./dataset/fer2013_2_classes/validation/', target_size=(48,48), shuffle=False, batch_size=1,\n",
        "                                                  class_mode='categorical')"
      ],
      "metadata": {
        "colab": {
          "base_uri": "https://localhost:8080/"
        },
        "id": "xoriSAP9Iu4R",
        "outputId": "ed15889e-a384-4ae0-d690-dcc751bce82a"
      },
      "execution_count": 89,
      "outputs": [
        {
          "output_type": "stream",
          "name": "stdout",
          "text": [
            "Found 1370 images belonging to 2 classes.\n"
          ]
        }
      ]
    },
    {
      "cell_type": "markdown",
      "source": [
        "## Rede Neural Convolucional"
      ],
      "metadata": {
        "id": "F-onUq8kJmiT"
      }
    },
    {
      "cell_type": "code",
      "source": [
        "network = keras.models.Sequential()\n",
        "network.add(keras.layers.Input(shape=(48, 48, 3)))\n",
        "\n",
        "network.add(keras.layers.Conv2D(filters=32, kernel_size=(3,3), padding='same', activation='relu'))\n",
        "network.add(keras.layers.BatchNormalization())\n",
        "network.add(keras.layers.Conv2D(filters=32, kernel_size=(3,3), padding='same', activation='relu'))\n",
        "network.add(keras.layers.BatchNormalization())\n",
        "network.add(keras.layers.MaxPooling2D(pool_size=(2,2)))\n",
        "network.add(keras.layers.Dropout(0.2))\n",
        "\n",
        "network.add(keras.layers.Conv2D(filters=2*32, kernel_size=(3,3), padding='same', activation='relu'))\n",
        "network.add(keras.layers.BatchNormalization())\n",
        "network.add(keras.layers.Conv2D(filters=2*32, kernel_size=(3,3), padding='same', activation='relu'))\n",
        "network.add(keras.layers.BatchNormalization())\n",
        "network.add(keras.layers.MaxPooling2D(pool_size=(2,2)))\n",
        "network.add(keras.layers.Dropout(0.2))\n",
        "\n",
        "network.add(keras.layers.Conv2D(filters=2*2*32, kernel_size=(3,3), padding='same', activation='relu'))\n",
        "network.add(keras.layers.BatchNormalization())\n",
        "network.add(keras.layers.Conv2D(filters=2*2*32, kernel_size=(3,3), padding='same', activation='relu'))\n",
        "network.add(keras.layers.BatchNormalization())\n",
        "network.add(keras.layers.MaxPooling2D(pool_size=(2,2)))\n",
        "network.add(keras.layers.Dropout(0.2))\n",
        "\n",
        "network.add(keras.layers.Conv2D(filters=2*2*2*32, kernel_size=(3,3), padding='same', activation='relu'))\n",
        "network.add(keras.layers.BatchNormalization())\n",
        "network.add(keras.layers.Conv2D(filters=2*2*2*32, kernel_size=(3,3), padding='same', activation='relu'))\n",
        "network.add(keras.layers.BatchNormalization())\n",
        "network.add(keras.layers.MaxPooling2D(pool_size=(2,2)))\n",
        "network.add(keras.layers.Dropout(0.2))\n",
        "\n",
        "network.add(keras.layers.Flatten())\n",
        "network.add(keras.layers.Dense(units=64, activation='relu'))\n",
        "network.add(keras.layers.BatchNormalization())\n",
        "network.add(keras.layers.Dropout(0.2))\n",
        "network.add(keras.layers.Dense(units=64, activation='relu'))\n",
        "network.add(keras.layers.BatchNormalization())\n",
        "network.add(keras.layers.Dropout(0.2))\n",
        "\n",
        "network.add(keras.layers.Dense(units=2, activation='softmax'))\n"
      ],
      "metadata": {
        "id": "68-n_D5zJjTF"
      },
      "execution_count": 125,
      "outputs": []
    },
    {
      "cell_type": "code",
      "source": [
        "network.summary()"
      ],
      "metadata": {
        "id": "Bnhqk-riKhnD"
      },
      "execution_count": null,
      "outputs": []
    },
    {
      "cell_type": "code",
      "source": [
        "network.compile(optimizer='adam', loss='categorical_crossentropy', metrics='accuracy')\n",
        "historico = network.fit(dataset_treinamento, epochs=50)"
      ],
      "metadata": {
        "colab": {
          "base_uri": "https://localhost:8080/"
        },
        "id": "YV2j0RsVKkGr",
        "outputId": "205d7222-e96d-4e15-a711-83c6cdeeff7e"
      },
      "execution_count": 128,
      "outputs": [
        {
          "output_type": "stream",
          "name": "stdout",
          "text": [
            "Epoch 1/50\n",
            "351/351 [==============================] - 25s 50ms/step - loss: 0.3501 - accuracy: 0.8449\n",
            "Epoch 2/50\n",
            "351/351 [==============================] - 17s 49ms/step - loss: 0.3166 - accuracy: 0.8633\n",
            "Epoch 3/50\n",
            "351/351 [==============================] - 18s 52ms/step - loss: 0.2963 - accuracy: 0.8749\n",
            "Epoch 4/50\n",
            "351/351 [==============================] - 17s 49ms/step - loss: 0.2804 - accuracy: 0.8819\n",
            "Epoch 5/50\n",
            "351/351 [==============================] - 17s 49ms/step - loss: 0.2714 - accuracy: 0.8872\n",
            "Epoch 6/50\n",
            "351/351 [==============================] - 17s 49ms/step - loss: 0.2574 - accuracy: 0.8921\n",
            "Epoch 7/50\n",
            "351/351 [==============================] - 17s 49ms/step - loss: 0.2423 - accuracy: 0.8974\n",
            "Epoch 8/50\n",
            "351/351 [==============================] - 19s 53ms/step - loss: 0.2279 - accuracy: 0.9084\n",
            "Epoch 9/50\n",
            "351/351 [==============================] - 17s 49ms/step - loss: 0.2280 - accuracy: 0.9086\n",
            "Epoch 10/50\n",
            "351/351 [==============================] - 17s 49ms/step - loss: 0.2138 - accuracy: 0.9145\n",
            "Epoch 11/50\n",
            "351/351 [==============================] - 17s 49ms/step - loss: 0.2133 - accuracy: 0.9130\n",
            "Epoch 12/50\n",
            "351/351 [==============================] - 17s 48ms/step - loss: 0.2101 - accuracy: 0.9148\n",
            "Epoch 13/50\n",
            "351/351 [==============================] - 17s 49ms/step - loss: 0.2064 - accuracy: 0.9197\n",
            "Epoch 14/50\n",
            "351/351 [==============================] - 17s 49ms/step - loss: 0.1953 - accuracy: 0.9201\n",
            "Epoch 15/50\n",
            "351/351 [==============================] - 18s 52ms/step - loss: 0.1928 - accuracy: 0.9249\n",
            "Epoch 16/50\n",
            "351/351 [==============================] - 18s 50ms/step - loss: 0.1870 - accuracy: 0.9263\n",
            "Epoch 17/50\n",
            "351/351 [==============================] - 17s 49ms/step - loss: 0.1862 - accuracy: 0.9299\n",
            "Epoch 18/50\n",
            "351/351 [==============================] - 18s 51ms/step - loss: 0.1788 - accuracy: 0.9287\n",
            "Epoch 19/50\n",
            "351/351 [==============================] - 17s 48ms/step - loss: 0.1775 - accuracy: 0.9318\n",
            "Epoch 20/50\n",
            "351/351 [==============================] - 17s 48ms/step - loss: 0.1725 - accuracy: 0.9350\n",
            "Epoch 21/50\n",
            "351/351 [==============================] - 17s 48ms/step - loss: 0.1814 - accuracy: 0.9287\n",
            "Epoch 22/50\n",
            "351/351 [==============================] - 17s 49ms/step - loss: 0.1616 - accuracy: 0.9383\n",
            "Epoch 23/50\n",
            "351/351 [==============================] - 17s 49ms/step - loss: 0.1570 - accuracy: 0.9398\n",
            "Epoch 24/50\n",
            "351/351 [==============================] - 18s 52ms/step - loss: 0.1544 - accuracy: 0.9430\n",
            "Epoch 25/50\n",
            "351/351 [==============================] - 17s 49ms/step - loss: 0.1564 - accuracy: 0.9403\n",
            "Epoch 26/50\n",
            "351/351 [==============================] - 18s 51ms/step - loss: 0.1392 - accuracy: 0.9486\n",
            "Epoch 27/50\n",
            "351/351 [==============================] - 17s 49ms/step - loss: 0.1429 - accuracy: 0.9464\n",
            "Epoch 28/50\n",
            "351/351 [==============================] - 18s 50ms/step - loss: 0.1396 - accuracy: 0.9472\n",
            "Epoch 29/50\n",
            "351/351 [==============================] - 17s 49ms/step - loss: 0.1338 - accuracy: 0.9495\n",
            "Epoch 30/50\n",
            "351/351 [==============================] - 17s 49ms/step - loss: 0.1331 - accuracy: 0.9463\n",
            "Epoch 31/50\n",
            "351/351 [==============================] - 20s 57ms/step - loss: 0.1302 - accuracy: 0.9502\n",
            "Epoch 32/50\n",
            "351/351 [==============================] - 19s 54ms/step - loss: 0.1184 - accuracy: 0.9581\n",
            "Epoch 33/50\n",
            "351/351 [==============================] - 26s 74ms/step - loss: 0.1153 - accuracy: 0.9545\n",
            "Epoch 34/50\n",
            "351/351 [==============================] - 19s 53ms/step - loss: 0.1190 - accuracy: 0.9566\n",
            "Epoch 35/50\n",
            "351/351 [==============================] - 21s 60ms/step - loss: 0.1122 - accuracy: 0.9582\n",
            "Epoch 36/50\n",
            "351/351 [==============================] - 27s 77ms/step - loss: 0.1136 - accuracy: 0.9602\n",
            "Epoch 37/50\n",
            "351/351 [==============================] - 20s 57ms/step - loss: 0.1095 - accuracy: 0.9599\n",
            "Epoch 38/50\n",
            "351/351 [==============================] - 18s 51ms/step - loss: 0.0990 - accuracy: 0.9643\n",
            "Epoch 39/50\n",
            "351/351 [==============================] - 17s 49ms/step - loss: 0.1036 - accuracy: 0.9612\n",
            "Epoch 40/50\n",
            "351/351 [==============================] - 17s 49ms/step - loss: 0.1044 - accuracy: 0.9611\n",
            "Epoch 41/50\n",
            "351/351 [==============================] - 17s 49ms/step - loss: 0.1046 - accuracy: 0.9617\n",
            "Epoch 42/50\n",
            "351/351 [==============================] - 17s 49ms/step - loss: 0.0971 - accuracy: 0.9633\n",
            "Epoch 43/50\n",
            "351/351 [==============================] - 19s 53ms/step - loss: 0.0964 - accuracy: 0.9620\n",
            "Epoch 44/50\n",
            "351/351 [==============================] - 17s 48ms/step - loss: 0.0968 - accuracy: 0.9631\n",
            "Epoch 45/50\n",
            "351/351 [==============================] - 17s 48ms/step - loss: 0.0895 - accuracy: 0.9659\n",
            "Epoch 46/50\n",
            "351/351 [==============================] - 18s 53ms/step - loss: 0.0936 - accuracy: 0.9663\n",
            "Epoch 47/50\n",
            "351/351 [==============================] - 17s 49ms/step - loss: 0.0916 - accuracy: 0.9649\n",
            "Epoch 48/50\n",
            "351/351 [==============================] - 17s 48ms/step - loss: 0.0867 - accuracy: 0.9680\n",
            "Epoch 49/50\n",
            "351/351 [==============================] - 18s 51ms/step - loss: 0.0902 - accuracy: 0.9657\n",
            "Epoch 50/50\n",
            "351/351 [==============================] - 17s 49ms/step - loss: 0.0856 - accuracy: 0.9677\n"
          ]
        }
      ]
    },
    {
      "cell_type": "markdown",
      "source": [
        "## Avaliação da rede neural"
      ],
      "metadata": {
        "id": "_NBejOnwONIu"
      }
    },
    {
      "cell_type": "code",
      "source": [
        "previsao = network.predict(dataset_teste)\n",
        "previsao = np.argmax(previsao, axis=1)\n",
        "previsao"
      ],
      "metadata": {
        "colab": {
          "base_uri": "https://localhost:8080/"
        },
        "id": "B3T2gnK2NgLW",
        "outputId": "13f8f542-0e76-474e-96c6-fc74dc2bde4e"
      },
      "execution_count": 129,
      "outputs": [
        {
          "output_type": "stream",
          "name": "stdout",
          "text": [
            "1370/1370 [==============================] - 5s 3ms/step\n"
          ]
        },
        {
          "output_type": "execute_result",
          "data": {
            "text/plain": [
              "array([0, 0, 0, ..., 1, 1, 1])"
            ]
          },
          "metadata": {},
          "execution_count": 129
        }
      ]
    },
    {
      "cell_type": "code",
      "source": [
        "dataset_teste.classes"
      ],
      "metadata": {
        "colab": {
          "base_uri": "https://localhost:8080/"
        },
        "id": "mgFjx8h6ObMa",
        "outputId": "db0d51ae-b3f9-4594-b5fb-bd6b4fa19ac9"
      },
      "execution_count": 130,
      "outputs": [
        {
          "output_type": "execute_result",
          "data": {
            "text/plain": [
              "array([0, 0, 0, ..., 1, 1, 1], dtype=int32)"
            ]
          },
          "metadata": {},
          "execution_count": 130
        }
      ]
    },
    {
      "cell_type": "code",
      "source": [
        "from sklearn.metrics import accuracy_score, classification_report, confusion_matrix, ConfusionMatrixDisplay"
      ],
      "metadata": {
        "id": "OADbDdX0OnXE"
      },
      "execution_count": 131,
      "outputs": []
    },
    {
      "cell_type": "code",
      "source": [
        "accuracy_score(dataset_teste.classes, previsao)"
      ],
      "metadata": {
        "colab": {
          "base_uri": "https://localhost:8080/"
        },
        "id": "ygYm42FtOxsg",
        "outputId": "d1e00008-b286-437a-82a6-8f8adf5fdeb0"
      },
      "execution_count": 132,
      "outputs": [
        {
          "output_type": "execute_result",
          "data": {
            "text/plain": [
              "0.9291970802919708"
            ]
          },
          "metadata": {},
          "execution_count": 132
        }
      ]
    },
    {
      "cell_type": "code",
      "source": [
        "cm = confusion_matrix(dataset_teste.classes, previsao)\n",
        "fig = ConfusionMatrixDisplay(cm)\n",
        "fig.plot();"
      ],
      "metadata": {
        "colab": {
          "base_uri": "https://localhost:8080/",
          "height": 449
        },
        "id": "vsf_P0otO2b5",
        "outputId": "052609b1-09c9-4d4c-96b1-bbf569841d8c"
      },
      "execution_count": 133,
      "outputs": [
        {
          "output_type": "display_data",
          "data": {
            "text/plain": [
              "<Figure size 640x480 with 2 Axes>"
            ],
            "image/png": "[encoded data removed]"
          },
          "metadata": {}
        }
      ]
    },
    {
      "cell_type": "markdown",
      "source": [
        "## Salvando a rede"
      ],
      "metadata": {
        "id": "RYS50lCWiP_y"
      }
    },
    {
      "cell_type": "code",
      "source": [
        "rede = network.to_json()\n",
        "with open('classificador_emocoes_alegria_raiva.json', 'w') as f:\n",
        "    f.write(rede)\n",
        "network.save_weights('weights_emocoes_alegria_raiva.hdf5')"
      ],
      "metadata": {
        "id": "1nO8xe6FiO7d"
      },
      "execution_count": 136,
      "outputs": []
    },
    {
      "cell_type": "code",
      "source": [],
      "metadata": {
        "id": "4xNFq_0IkduL"
      },
      "execution_count": null,
      "outputs": []
    }
  ]
}