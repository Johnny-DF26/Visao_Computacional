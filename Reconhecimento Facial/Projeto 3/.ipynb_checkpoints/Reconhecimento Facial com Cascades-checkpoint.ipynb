{
 "cells": [
  {
   "cell_type": "markdown",
   "id": "6140a647",
   "metadata": {},
   "source": [
    "## Importação das Bibliotecas"
   ]
  },
  {
   "cell_type": "code",
   "execution_count": 17,
   "id": "182ac097",
   "metadata": {},
   "outputs": [],
   "source": [
    "import cv2\n",
    "import numpy as np\n",
    "import os\n",
    "import zipfile\n",
    "from PIL import Image\n",
    "import matplotlib.pyplot as plt\n",
    "from sklearn.metrics import accuracy_score"
   ]
  },
  {
   "cell_type": "markdown",
   "id": "2de9dd1c",
   "metadata": {},
   "source": [
    "## Base de Dados"
   ]
  },
  {
   "cell_type": "code",
   "execution_count": 18,
   "id": "b78b1581",
   "metadata": {},
   "outputs": [],
   "source": [
    "path = './datasets/cropped_faces/'\n",
    "paths = [os.path.join(path, f) for f in os.listdir(path)]"
   ]
  },
  {
   "cell_type": "code",
   "execution_count": 19,
   "id": "eb4d2df0",
   "metadata": {},
   "outputs": [
    {
     "data": {
      "text/plain": [
       "['./datasets/cropped_faces/s01_01.jpg',\n",
       " './datasets/cropped_faces/s01_02.jpg',\n",
       " './datasets/cropped_faces/s01_03.jpg',\n",
       " './datasets/cropped_faces/s01_04.jpg',\n",
       " './datasets/cropped_faces/s01_05.jpg',\n",
       " './datasets/cropped_faces/s01_06.jpg',\n",
       " './datasets/cropped_faces/s01_07.jpg',\n",
       " './datasets/cropped_faces/s01_08.jpg',\n",
       " './datasets/cropped_faces/s01_09.jpg',\n",
       " './datasets/cropped_faces/s01_10.jpg',\n",
       " './datasets/cropped_faces/s01_11.jpg',\n",
       " './datasets/cropped_faces/s01_12.jpg',\n",
       " './datasets/cropped_faces/s01_13.jpg',\n",
       " './datasets/cropped_faces/s01_14.jpg',\n",
       " './datasets/cropped_faces/s01_15.jpg',\n",
       " './datasets/cropped_faces/s02_01.jpg',\n",
       " './datasets/cropped_faces/s02_02.jpg',\n",
       " './datasets/cropped_faces/s02_03.jpg',\n",
       " './datasets/cropped_faces/s02_04.jpg',\n",
       " './datasets/cropped_faces/s02_05.jpg',\n",
       " './datasets/cropped_faces/s02_06.jpg',\n",
       " './datasets/cropped_faces/s02_07.jpg',\n",
       " './datasets/cropped_faces/s02_08.jpg',\n",
       " './datasets/cropped_faces/s02_09.jpg',\n",
       " './datasets/cropped_faces/s02_10.jpg',\n",
       " './datasets/cropped_faces/s02_11.jpg',\n",
       " './datasets/cropped_faces/s02_12.jpg',\n",
       " './datasets/cropped_faces/s02_13.jpg',\n",
       " './datasets/cropped_faces/s02_14.jpg',\n",
       " './datasets/cropped_faces/s02_15.jpg',\n",
       " './datasets/cropped_faces/s03_01.jpg',\n",
       " './datasets/cropped_faces/s03_02.jpg',\n",
       " './datasets/cropped_faces/s03_03.jpg',\n",
       " './datasets/cropped_faces/s03_04.jpg',\n",
       " './datasets/cropped_faces/s03_05.jpg',\n",
       " './datasets/cropped_faces/s03_06.jpg',\n",
       " './datasets/cropped_faces/s03_07.jpg',\n",
       " './datasets/cropped_faces/s03_08.jpg',\n",
       " './datasets/cropped_faces/s03_09.jpg',\n",
       " './datasets/cropped_faces/s03_10.jpg',\n",
       " './datasets/cropped_faces/s03_11.jpg',\n",
       " './datasets/cropped_faces/s03_12.jpg',\n",
       " './datasets/cropped_faces/s03_13.jpg',\n",
       " './datasets/cropped_faces/s03_14.jpg',\n",
       " './datasets/cropped_faces/s03_15.jpg',\n",
       " './datasets/cropped_faces/s04_01.jpg',\n",
       " './datasets/cropped_faces/s04_02.jpg',\n",
       " './datasets/cropped_faces/s04_03.jpg',\n",
       " './datasets/cropped_faces/s04_04.jpg',\n",
       " './datasets/cropped_faces/s04_05.jpg',\n",
       " './datasets/cropped_faces/s04_06.jpg',\n",
       " './datasets/cropped_faces/s04_07.jpg',\n",
       " './datasets/cropped_faces/s04_08.jpg',\n",
       " './datasets/cropped_faces/s04_09.jpg',\n",
       " './datasets/cropped_faces/s04_10.jpg',\n",
       " './datasets/cropped_faces/s04_11.jpg',\n",
       " './datasets/cropped_faces/s04_12.jpg',\n",
       " './datasets/cropped_faces/s04_13.jpg',\n",
       " './datasets/cropped_faces/s04_14.jpg',\n",
       " './datasets/cropped_faces/s04_15.jpg',\n",
       " './datasets/cropped_faces/s05_01.jpg',\n",
       " './datasets/cropped_faces/s05_02.jpg',\n",
       " './datasets/cropped_faces/s05_03.jpg',\n",
       " './datasets/cropped_faces/s05_04.jpg',\n",
       " './datasets/cropped_faces/s05_05.jpg',\n",
       " './datasets/cropped_faces/s05_06.jpg',\n",
       " './datasets/cropped_faces/s05_07.jpg',\n",
       " './datasets/cropped_faces/s05_08.jpg',\n",
       " './datasets/cropped_faces/s05_09.jpg',\n",
       " './datasets/cropped_faces/s05_10.jpg',\n",
       " './datasets/cropped_faces/s05_11.jpg',\n",
       " './datasets/cropped_faces/s05_12.jpg',\n",
       " './datasets/cropped_faces/s05_13.jpg',\n",
       " './datasets/cropped_faces/s05_14.jpg',\n",
       " './datasets/cropped_faces/s05_15.jpg',\n",
       " './datasets/cropped_faces/s06_01.jpg',\n",
       " './datasets/cropped_faces/s06_02.jpg',\n",
       " './datasets/cropped_faces/s06_03.jpg',\n",
       " './datasets/cropped_faces/s06_04.jpg',\n",
       " './datasets/cropped_faces/s06_05.jpg',\n",
       " './datasets/cropped_faces/s06_06.jpg',\n",
       " './datasets/cropped_faces/s06_07.jpg',\n",
       " './datasets/cropped_faces/s06_08.jpg',\n",
       " './datasets/cropped_faces/s06_09.jpg',\n",
       " './datasets/cropped_faces/s06_10.jpg',\n",
       " './datasets/cropped_faces/s06_11.jpg',\n",
       " './datasets/cropped_faces/s06_12.jpg',\n",
       " './datasets/cropped_faces/s06_13.jpg',\n",
       " './datasets/cropped_faces/s06_14.jpg',\n",
       " './datasets/cropped_faces/s06_15.jpg',\n",
       " './datasets/cropped_faces/s07_01.jpg',\n",
       " './datasets/cropped_faces/s07_02.jpg',\n",
       " './datasets/cropped_faces/s07_03.jpg',\n",
       " './datasets/cropped_faces/s07_04.jpg',\n",
       " './datasets/cropped_faces/s07_05.jpg',\n",
       " './datasets/cropped_faces/s07_06.jpg',\n",
       " './datasets/cropped_faces/s07_07.jpg',\n",
       " './datasets/cropped_faces/s07_08.jpg',\n",
       " './datasets/cropped_faces/s07_09.jpg',\n",
       " './datasets/cropped_faces/s07_10.jpg',\n",
       " './datasets/cropped_faces/s07_11.jpg',\n",
       " './datasets/cropped_faces/s07_12.jpg',\n",
       " './datasets/cropped_faces/s07_13.jpg',\n",
       " './datasets/cropped_faces/s07_14.jpg',\n",
       " './datasets/cropped_faces/s07_15.jpg',\n",
       " './datasets/cropped_faces/s08_01.jpg',\n",
       " './datasets/cropped_faces/s08_02.jpg',\n",
       " './datasets/cropped_faces/s08_03.jpg',\n",
       " './datasets/cropped_faces/s08_04.jpg',\n",
       " './datasets/cropped_faces/s08_05.jpg',\n",
       " './datasets/cropped_faces/s08_06.jpg',\n",
       " './datasets/cropped_faces/s08_07.jpg',\n",
       " './datasets/cropped_faces/s08_08.jpg',\n",
       " './datasets/cropped_faces/s08_09.jpg',\n",
       " './datasets/cropped_faces/s08_10.jpg',\n",
       " './datasets/cropped_faces/s08_11.jpg',\n",
       " './datasets/cropped_faces/s08_12.jpg',\n",
       " './datasets/cropped_faces/s08_13.jpg',\n",
       " './datasets/cropped_faces/s08_14.jpg',\n",
       " './datasets/cropped_faces/s08_15.jpg',\n",
       " './datasets/cropped_faces/s09_01.jpg',\n",
       " './datasets/cropped_faces/s09_02.jpg',\n",
       " './datasets/cropped_faces/s09_03.jpg',\n",
       " './datasets/cropped_faces/s09_04.jpg',\n",
       " './datasets/cropped_faces/s09_05.jpg',\n",
       " './datasets/cropped_faces/s09_06.jpg',\n",
       " './datasets/cropped_faces/s09_07.jpg',\n",
       " './datasets/cropped_faces/s09_08.jpg',\n",
       " './datasets/cropped_faces/s09_09.jpg',\n",
       " './datasets/cropped_faces/s09_10.jpg',\n",
       " './datasets/cropped_faces/s09_11.jpg',\n",
       " './datasets/cropped_faces/s09_12.jpg',\n",
       " './datasets/cropped_faces/s09_13.jpg',\n",
       " './datasets/cropped_faces/s09_14.jpg',\n",
       " './datasets/cropped_faces/s09_15.jpg',\n",
       " './datasets/cropped_faces/s10_01.jpg',\n",
       " './datasets/cropped_faces/s10_02.jpg',\n",
       " './datasets/cropped_faces/s10_03.jpg',\n",
       " './datasets/cropped_faces/s10_04.jpg',\n",
       " './datasets/cropped_faces/s10_05.jpg',\n",
       " './datasets/cropped_faces/s10_06.jpg',\n",
       " './datasets/cropped_faces/s10_07.jpg',\n",
       " './datasets/cropped_faces/s10_08.jpg',\n",
       " './datasets/cropped_faces/s10_09.jpg',\n",
       " './datasets/cropped_faces/s10_10.jpg',\n",
       " './datasets/cropped_faces/s10_11.jpg',\n",
       " './datasets/cropped_faces/s10_12.jpg',\n",
       " './datasets/cropped_faces/s10_13.jpg',\n",
       " './datasets/cropped_faces/s10_14.jpg',\n",
       " './datasets/cropped_faces/s10_15.jpg',\n",
       " './datasets/cropped_faces/s11_01.jpg',\n",
       " './datasets/cropped_faces/s11_02.jpg',\n",
       " './datasets/cropped_faces/s11_03.jpg',\n",
       " './datasets/cropped_faces/s11_04.jpg',\n",
       " './datasets/cropped_faces/s11_05.jpg',\n",
       " './datasets/cropped_faces/s11_06.jpg',\n",
       " './datasets/cropped_faces/s11_07.jpg',\n",
       " './datasets/cropped_faces/s11_08.jpg',\n",
       " './datasets/cropped_faces/s11_09.jpg',\n",
       " './datasets/cropped_faces/s11_10.jpg',\n",
       " './datasets/cropped_faces/s11_11.jpg',\n",
       " './datasets/cropped_faces/s11_12.jpg',\n",
       " './datasets/cropped_faces/s11_13.jpg',\n",
       " './datasets/cropped_faces/s11_14.jpg',\n",
       " './datasets/cropped_faces/s11_15.jpg',\n",
       " './datasets/cropped_faces/s12_01.jpg',\n",
       " './datasets/cropped_faces/s12_02.jpg',\n",
       " './datasets/cropped_faces/s12_03.jpg',\n",
       " './datasets/cropped_faces/s12_04.jpg',\n",
       " './datasets/cropped_faces/s12_05.jpg',\n",
       " './datasets/cropped_faces/s12_06.jpg',\n",
       " './datasets/cropped_faces/s12_07.jpg',\n",
       " './datasets/cropped_faces/s12_08.jpg',\n",
       " './datasets/cropped_faces/s12_09.jpg',\n",
       " './datasets/cropped_faces/s12_10.jpg',\n",
       " './datasets/cropped_faces/s12_11.jpg',\n",
       " './datasets/cropped_faces/s12_12.jpg',\n",
       " './datasets/cropped_faces/s12_13.jpg',\n",
       " './datasets/cropped_faces/s12_14.jpg',\n",
       " './datasets/cropped_faces/s12_15.jpg',\n",
       " './datasets/cropped_faces/s13_01.jpg',\n",
       " './datasets/cropped_faces/s13_02.jpg',\n",
       " './datasets/cropped_faces/s13_03.jpg',\n",
       " './datasets/cropped_faces/s13_04.jpg',\n",
       " './datasets/cropped_faces/s13_05.jpg',\n",
       " './datasets/cropped_faces/s13_06.jpg',\n",
       " './datasets/cropped_faces/s13_07.jpg',\n",
       " './datasets/cropped_faces/s13_08.jpg',\n",
       " './datasets/cropped_faces/s13_09.jpg',\n",
       " './datasets/cropped_faces/s13_10.jpg',\n",
       " './datasets/cropped_faces/s13_11.jpg',\n",
       " './datasets/cropped_faces/s13_12.jpg',\n",
       " './datasets/cropped_faces/s13_13.jpg',\n",
       " './datasets/cropped_faces/s13_14.jpg',\n",
       " './datasets/cropped_faces/s13_15.jpg',\n",
       " './datasets/cropped_faces/s14_01.jpg',\n",
       " './datasets/cropped_faces/s14_02.jpg',\n",
       " './datasets/cropped_faces/s14_03.jpg',\n",
       " './datasets/cropped_faces/s14_04.jpg',\n",
       " './datasets/cropped_faces/s14_05.jpg',\n",
       " './datasets/cropped_faces/s14_06.jpg',\n",
       " './datasets/cropped_faces/s14_07.jpg',\n",
       " './datasets/cropped_faces/s14_08.jpg',\n",
       " './datasets/cropped_faces/s14_09.jpg',\n",
       " './datasets/cropped_faces/s14_10.jpg',\n",
       " './datasets/cropped_faces/s14_11.jpg',\n",
       " './datasets/cropped_faces/s14_12.jpg',\n",
       " './datasets/cropped_faces/s14_13.jpg',\n",
       " './datasets/cropped_faces/s14_14.jpg',\n",
       " './datasets/cropped_faces/s14_15.jpg',\n",
       " './datasets/cropped_faces/s15_01.jpg',\n",
       " './datasets/cropped_faces/s15_02.jpg',\n",
       " './datasets/cropped_faces/s15_03.jpg',\n",
       " './datasets/cropped_faces/s15_04.jpg',\n",
       " './datasets/cropped_faces/s15_05.jpg',\n",
       " './datasets/cropped_faces/s15_06.jpg',\n",
       " './datasets/cropped_faces/s15_07.jpg',\n",
       " './datasets/cropped_faces/s15_08.jpg',\n",
       " './datasets/cropped_faces/s15_09.jpg',\n",
       " './datasets/cropped_faces/s15_10.jpg',\n",
       " './datasets/cropped_faces/s15_11.jpg',\n",
       " './datasets/cropped_faces/s15_12.jpg',\n",
       " './datasets/cropped_faces/s15_13.jpg',\n",
       " './datasets/cropped_faces/s15_14.jpg',\n",
       " './datasets/cropped_faces/s15_15.jpg',\n",
       " './datasets/cropped_faces/s16_01.jpg',\n",
       " './datasets/cropped_faces/s16_02.jpg',\n",
       " './datasets/cropped_faces/s16_03.jpg',\n",
       " './datasets/cropped_faces/s16_04.jpg',\n",
       " './datasets/cropped_faces/s16_05.jpg',\n",
       " './datasets/cropped_faces/s16_06.jpg',\n",
       " './datasets/cropped_faces/s16_07.jpg',\n",
       " './datasets/cropped_faces/s16_08.jpg',\n",
       " './datasets/cropped_faces/s16_09.jpg',\n",
       " './datasets/cropped_faces/s16_10.jpg',\n",
       " './datasets/cropped_faces/s16_11.jpg',\n",
       " './datasets/cropped_faces/s16_12.jpg',\n",
       " './datasets/cropped_faces/s16_13.jpg',\n",
       " './datasets/cropped_faces/s16_14.jpg',\n",
       " './datasets/cropped_faces/s16_15.jpg',\n",
       " './datasets/cropped_faces/s17_01.jpg',\n",
       " './datasets/cropped_faces/s17_02.jpg',\n",
       " './datasets/cropped_faces/s17_03.jpg',\n",
       " './datasets/cropped_faces/s17_04.jpg',\n",
       " './datasets/cropped_faces/s17_05.jpg',\n",
       " './datasets/cropped_faces/s17_06.jpg',\n",
       " './datasets/cropped_faces/s17_07.jpg',\n",
       " './datasets/cropped_faces/s17_08.jpg',\n",
       " './datasets/cropped_faces/s17_09.jpg',\n",
       " './datasets/cropped_faces/s17_10.jpg',\n",
       " './datasets/cropped_faces/s17_11.jpg',\n",
       " './datasets/cropped_faces/s17_12.jpg',\n",
       " './datasets/cropped_faces/s17_13.jpg',\n",
       " './datasets/cropped_faces/s17_14.jpg',\n",
       " './datasets/cropped_faces/s17_15.jpg',\n",
       " './datasets/cropped_faces/s18_01.jpg',\n",
       " './datasets/cropped_faces/s18_02.jpg',\n",
       " './datasets/cropped_faces/s18_03.jpg',\n",
       " './datasets/cropped_faces/s18_04.jpg',\n",
       " './datasets/cropped_faces/s18_05.jpg',\n",
       " './datasets/cropped_faces/s18_06.jpg',\n",
       " './datasets/cropped_faces/s18_07.jpg',\n",
       " './datasets/cropped_faces/s18_08.jpg',\n",
       " './datasets/cropped_faces/s18_09.jpg',\n",
       " './datasets/cropped_faces/s18_10.jpg',\n",
       " './datasets/cropped_faces/s18_11.jpg',\n",
       " './datasets/cropped_faces/s18_12.jpg',\n",
       " './datasets/cropped_faces/s18_13.jpg',\n",
       " './datasets/cropped_faces/s18_14.jpg',\n",
       " './datasets/cropped_faces/s18_15.jpg',\n",
       " './datasets/cropped_faces/s19_01.jpg',\n",
       " './datasets/cropped_faces/s19_02.jpg',\n",
       " './datasets/cropped_faces/s19_03.jpg',\n",
       " './datasets/cropped_faces/s19_04.jpg',\n",
       " './datasets/cropped_faces/s19_05.jpg',\n",
       " './datasets/cropped_faces/s19_06.jpg',\n",
       " './datasets/cropped_faces/s19_07.jpg',\n",
       " './datasets/cropped_faces/s19_08.jpg',\n",
       " './datasets/cropped_faces/s19_09.jpg',\n",
       " './datasets/cropped_faces/s19_10.jpg',\n",
       " './datasets/cropped_faces/s19_11.jpg',\n",
       " './datasets/cropped_faces/s19_12.jpg',\n",
       " './datasets/cropped_faces/s19_13.jpg',\n",
       " './datasets/cropped_faces/s19_14.jpg',\n",
       " './datasets/cropped_faces/s19_15.jpg',\n",
       " './datasets/cropped_faces/s20_01.jpg',\n",
       " './datasets/cropped_faces/s20_02.jpg',\n",
       " './datasets/cropped_faces/s20_03.jpg',\n",
       " './datasets/cropped_faces/s20_04.jpg',\n",
       " './datasets/cropped_faces/s20_05.jpg',\n",
       " './datasets/cropped_faces/s20_06.jpg',\n",
       " './datasets/cropped_faces/s20_07.jpg',\n",
       " './datasets/cropped_faces/s20_08.jpg',\n",
       " './datasets/cropped_faces/s20_09.jpg',\n",
       " './datasets/cropped_faces/s20_10.jpg',\n",
       " './datasets/cropped_faces/s20_11.jpg',\n",
       " './datasets/cropped_faces/s20_12.jpg',\n",
       " './datasets/cropped_faces/s20_13.jpg',\n",
       " './datasets/cropped_faces/s20_14.jpg',\n",
       " './datasets/cropped_faces/s20_15.jpg',\n",
       " './datasets/cropped_faces/s21_01.jpg',\n",
       " './datasets/cropped_faces/s21_02.jpg',\n",
       " './datasets/cropped_faces/s21_03.jpg',\n",
       " './datasets/cropped_faces/s21_04.jpg',\n",
       " './datasets/cropped_faces/s21_05.jpg',\n",
       " './datasets/cropped_faces/s21_06.jpg',\n",
       " './datasets/cropped_faces/s21_07.jpg',\n",
       " './datasets/cropped_faces/s21_08.jpg',\n",
       " './datasets/cropped_faces/s21_09.jpg',\n",
       " './datasets/cropped_faces/s21_10.jpg',\n",
       " './datasets/cropped_faces/s21_11.jpg',\n",
       " './datasets/cropped_faces/s21_12.jpg',\n",
       " './datasets/cropped_faces/s21_13.jpg',\n",
       " './datasets/cropped_faces/s21_14.jpg',\n",
       " './datasets/cropped_faces/s21_15.jpg',\n",
       " './datasets/cropped_faces/s22_01.jpg',\n",
       " './datasets/cropped_faces/s22_02.jpg',\n",
       " './datasets/cropped_faces/s22_03.jpg',\n",
       " './datasets/cropped_faces/s22_04.jpg',\n",
       " './datasets/cropped_faces/s22_05.jpg',\n",
       " './datasets/cropped_faces/s22_06.jpg',\n",
       " './datasets/cropped_faces/s22_07.jpg',\n",
       " './datasets/cropped_faces/s22_08.jpg',\n",
       " './datasets/cropped_faces/s22_09.jpg',\n",
       " './datasets/cropped_faces/s22_10.jpg',\n",
       " './datasets/cropped_faces/s22_11.jpg',\n",
       " './datasets/cropped_faces/s22_12.jpg',\n",
       " './datasets/cropped_faces/s22_13.jpg',\n",
       " './datasets/cropped_faces/s22_14.jpg',\n",
       " './datasets/cropped_faces/s22_15.jpg',\n",
       " './datasets/cropped_faces/s23_01.jpg',\n",
       " './datasets/cropped_faces/s23_02.jpg',\n",
       " './datasets/cropped_faces/s23_03.jpg',\n",
       " './datasets/cropped_faces/s23_04.jpg',\n",
       " './datasets/cropped_faces/s23_05.jpg',\n",
       " './datasets/cropped_faces/s23_06.jpg',\n",
       " './datasets/cropped_faces/s23_07.jpg',\n",
       " './datasets/cropped_faces/s23_08.jpg',\n",
       " './datasets/cropped_faces/s23_09.jpg',\n",
       " './datasets/cropped_faces/s23_10.jpg',\n",
       " './datasets/cropped_faces/s23_11.jpg',\n",
       " './datasets/cropped_faces/s23_12.jpg',\n",
       " './datasets/cropped_faces/s23_13.jpg',\n",
       " './datasets/cropped_faces/s23_14.jpg',\n",
       " './datasets/cropped_faces/s23_15.jpg',\n",
       " './datasets/cropped_faces/s24_01.jpg',\n",
       " './datasets/cropped_faces/s24_02.jpg',\n",
       " './datasets/cropped_faces/s24_03.jpg',\n",
       " './datasets/cropped_faces/s24_04.jpg',\n",
       " './datasets/cropped_faces/s24_05.jpg',\n",
       " './datasets/cropped_faces/s24_06.jpg',\n",
       " './datasets/cropped_faces/s24_07.jpg',\n",
       " './datasets/cropped_faces/s24_08.jpg',\n",
       " './datasets/cropped_faces/s24_09.jpg',\n",
       " './datasets/cropped_faces/s24_10.jpg',\n",
       " './datasets/cropped_faces/s24_11.jpg',\n",
       " './datasets/cropped_faces/s24_12.jpg',\n",
       " './datasets/cropped_faces/s24_13.jpg',\n",
       " './datasets/cropped_faces/s24_14.jpg',\n",
       " './datasets/cropped_faces/s24_15.jpg',\n",
       " './datasets/cropped_faces/s25_01.jpg',\n",
       " './datasets/cropped_faces/s25_02.jpg',\n",
       " './datasets/cropped_faces/s25_03.jpg',\n",
       " './datasets/cropped_faces/s25_04.jpg',\n",
       " './datasets/cropped_faces/s25_05.jpg',\n",
       " './datasets/cropped_faces/s25_06.jpg',\n",
       " './datasets/cropped_faces/s25_07.jpg',\n",
       " './datasets/cropped_faces/s25_08.jpg',\n",
       " './datasets/cropped_faces/s25_09.jpg',\n",
       " './datasets/cropped_faces/s25_10.jpg',\n",
       " './datasets/cropped_faces/s25_11.jpg',\n",
       " './datasets/cropped_faces/s25_12.jpg',\n",
       " './datasets/cropped_faces/s25_13.jpg',\n",
       " './datasets/cropped_faces/s25_14.jpg',\n",
       " './datasets/cropped_faces/s25_15.jpg',\n",
       " './datasets/cropped_faces/s26_01.jpg',\n",
       " './datasets/cropped_faces/s26_02.jpg',\n",
       " './datasets/cropped_faces/s26_03.jpg',\n",
       " './datasets/cropped_faces/s26_04.jpg',\n",
       " './datasets/cropped_faces/s26_05.jpg',\n",
       " './datasets/cropped_faces/s26_06.jpg',\n",
       " './datasets/cropped_faces/s26_07.jpg',\n",
       " './datasets/cropped_faces/s26_08.jpg',\n",
       " './datasets/cropped_faces/s26_09.jpg',\n",
       " './datasets/cropped_faces/s26_10.jpg',\n",
       " './datasets/cropped_faces/s26_11.jpg',\n",
       " './datasets/cropped_faces/s26_12.jpg',\n",
       " './datasets/cropped_faces/s26_13.jpg',\n",
       " './datasets/cropped_faces/s26_14.jpg',\n",
       " './datasets/cropped_faces/s26_15.jpg',\n",
       " './datasets/cropped_faces/s27_01.jpg',\n",
       " './datasets/cropped_faces/s27_02.jpg',\n",
       " './datasets/cropped_faces/s27_03.jpg',\n",
       " './datasets/cropped_faces/s27_04.jpg',\n",
       " './datasets/cropped_faces/s27_05.jpg',\n",
       " './datasets/cropped_faces/s27_06.jpg',\n",
       " './datasets/cropped_faces/s27_07.jpg',\n",
       " './datasets/cropped_faces/s27_08.jpg',\n",
       " './datasets/cropped_faces/s27_09.jpg',\n",
       " './datasets/cropped_faces/s27_10.jpg',\n",
       " './datasets/cropped_faces/s27_11.jpg',\n",
       " './datasets/cropped_faces/s27_12.jpg',\n",
       " './datasets/cropped_faces/s27_13.jpg',\n",
       " './datasets/cropped_faces/s27_14.jpg',\n",
       " './datasets/cropped_faces/s27_15.jpg',\n",
       " './datasets/cropped_faces/s28_01.jpg',\n",
       " './datasets/cropped_faces/s28_02.jpg',\n",
       " './datasets/cropped_faces/s28_03.jpg',\n",
       " './datasets/cropped_faces/s28_04.jpg',\n",
       " './datasets/cropped_faces/s28_05.jpg',\n",
       " './datasets/cropped_faces/s28_06.jpg',\n",
       " './datasets/cropped_faces/s28_07.jpg',\n",
       " './datasets/cropped_faces/s28_08.jpg',\n",
       " './datasets/cropped_faces/s28_09.jpg',\n",
       " './datasets/cropped_faces/s28_10.jpg',\n",
       " './datasets/cropped_faces/s28_11.jpg',\n",
       " './datasets/cropped_faces/s28_12.jpg',\n",
       " './datasets/cropped_faces/s28_13.jpg',\n",
       " './datasets/cropped_faces/s28_14.jpg',\n",
       " './datasets/cropped_faces/s28_15.jpg',\n",
       " './datasets/cropped_faces/s29_01.jpg',\n",
       " './datasets/cropped_faces/s29_02.jpg',\n",
       " './datasets/cropped_faces/s29_03.jpg',\n",
       " './datasets/cropped_faces/s29_04.jpg',\n",
       " './datasets/cropped_faces/s29_05.jpg',\n",
       " './datasets/cropped_faces/s29_06.jpg',\n",
       " './datasets/cropped_faces/s29_07.jpg',\n",
       " './datasets/cropped_faces/s29_08.jpg',\n",
       " './datasets/cropped_faces/s29_09.jpg',\n",
       " './datasets/cropped_faces/s29_10.jpg',\n",
       " './datasets/cropped_faces/s29_11.jpg',\n",
       " './datasets/cropped_faces/s29_12.jpg',\n",
       " './datasets/cropped_faces/s29_13.jpg',\n",
       " './datasets/cropped_faces/s29_14.jpg',\n",
       " './datasets/cropped_faces/s29_15.jpg',\n",
       " './datasets/cropped_faces/s30_01.jpg',\n",
       " './datasets/cropped_faces/s30_02.jpg',\n",
       " './datasets/cropped_faces/s30_03.jpg',\n",
       " './datasets/cropped_faces/s30_04.jpg',\n",
       " './datasets/cropped_faces/s30_05.jpg',\n",
       " './datasets/cropped_faces/s30_06.jpg',\n",
       " './datasets/cropped_faces/s30_07.jpg',\n",
       " './datasets/cropped_faces/s30_08.jpg',\n",
       " './datasets/cropped_faces/s30_09.jpg',\n",
       " './datasets/cropped_faces/s30_10.jpg',\n",
       " './datasets/cropped_faces/s30_11.jpg',\n",
       " './datasets/cropped_faces/s30_12.jpg',\n",
       " './datasets/cropped_faces/s30_13.jpg',\n",
       " './datasets/cropped_faces/s30_14.jpg',\n",
       " './datasets/cropped_faces/s30_15.jpg',\n",
       " './datasets/cropped_faces/s31_01.jpg',\n",
       " './datasets/cropped_faces/s31_02.jpg',\n",
       " './datasets/cropped_faces/s31_03.jpg',\n",
       " './datasets/cropped_faces/s31_04.jpg',\n",
       " './datasets/cropped_faces/s31_05.jpg',\n",
       " './datasets/cropped_faces/s31_06.jpg',\n",
       " './datasets/cropped_faces/s31_07.jpg',\n",
       " './datasets/cropped_faces/s31_08.jpg',\n",
       " './datasets/cropped_faces/s31_09.jpg',\n",
       " './datasets/cropped_faces/s31_10.jpg',\n",
       " './datasets/cropped_faces/s31_11.jpg',\n",
       " './datasets/cropped_faces/s31_12.jpg',\n",
       " './datasets/cropped_faces/s31_13.jpg',\n",
       " './datasets/cropped_faces/s31_14.jpg',\n",
       " './datasets/cropped_faces/s31_15.jpg',\n",
       " './datasets/cropped_faces/s32_01.jpg',\n",
       " './datasets/cropped_faces/s32_02.jpg',\n",
       " './datasets/cropped_faces/s32_03.jpg',\n",
       " './datasets/cropped_faces/s32_04.jpg',\n",
       " './datasets/cropped_faces/s32_05.jpg',\n",
       " './datasets/cropped_faces/s32_06.jpg',\n",
       " './datasets/cropped_faces/s32_07.jpg',\n",
       " './datasets/cropped_faces/s32_08.jpg',\n",
       " './datasets/cropped_faces/s32_09.jpg',\n",
       " './datasets/cropped_faces/s32_10.jpg',\n",
       " './datasets/cropped_faces/s32_11.jpg',\n",
       " './datasets/cropped_faces/s32_12.jpg',\n",
       " './datasets/cropped_faces/s32_13.jpg',\n",
       " './datasets/cropped_faces/s32_14.jpg',\n",
       " './datasets/cropped_faces/s32_15.jpg',\n",
       " './datasets/cropped_faces/s33_01.jpg',\n",
       " './datasets/cropped_faces/s33_02.jpg',\n",
       " './datasets/cropped_faces/s33_03.jpg',\n",
       " './datasets/cropped_faces/s33_04.jpg',\n",
       " './datasets/cropped_faces/s33_05.jpg',\n",
       " './datasets/cropped_faces/s33_06.jpg',\n",
       " './datasets/cropped_faces/s33_07.jpg',\n",
       " './datasets/cropped_faces/s33_08.jpg',\n",
       " './datasets/cropped_faces/s33_09.jpg',\n",
       " './datasets/cropped_faces/s33_10.jpg',\n",
       " './datasets/cropped_faces/s33_11.jpg',\n",
       " './datasets/cropped_faces/s33_12.jpg',\n",
       " './datasets/cropped_faces/s33_13.jpg',\n",
       " './datasets/cropped_faces/s33_14.jpg',\n",
       " './datasets/cropped_faces/s33_15.jpg',\n",
       " './datasets/cropped_faces/s34_01.jpg',\n",
       " './datasets/cropped_faces/s34_02.jpg',\n",
       " './datasets/cropped_faces/s34_03.jpg',\n",
       " './datasets/cropped_faces/s34_04.jpg',\n",
       " './datasets/cropped_faces/s34_05.jpg',\n",
       " './datasets/cropped_faces/s34_06.jpg',\n",
       " './datasets/cropped_faces/s34_07.jpg',\n",
       " './datasets/cropped_faces/s34_08.jpg',\n",
       " './datasets/cropped_faces/s34_09.jpg',\n",
       " './datasets/cropped_faces/s34_10.jpg',\n",
       " './datasets/cropped_faces/s34_11.jpg',\n",
       " './datasets/cropped_faces/s34_12.jpg',\n",
       " './datasets/cropped_faces/s34_13.jpg',\n",
       " './datasets/cropped_faces/s34_14.jpg',\n",
       " './datasets/cropped_faces/s34_15.jpg',\n",
       " './datasets/cropped_faces/s35_01.jpg',\n",
       " './datasets/cropped_faces/s35_02.jpg',\n",
       " './datasets/cropped_faces/s35_03.jpg',\n",
       " './datasets/cropped_faces/s35_04.jpg',\n",
       " './datasets/cropped_faces/s35_05.jpg',\n",
       " './datasets/cropped_faces/s35_06.jpg',\n",
       " './datasets/cropped_faces/s35_07.jpg',\n",
       " './datasets/cropped_faces/s35_08.jpg',\n",
       " './datasets/cropped_faces/s35_09.jpg',\n",
       " './datasets/cropped_faces/s35_10.jpg',\n",
       " './datasets/cropped_faces/s35_11.jpg',\n",
       " './datasets/cropped_faces/s35_12.jpg',\n",
       " './datasets/cropped_faces/s35_13.jpg',\n",
       " './datasets/cropped_faces/s35_14.jpg',\n",
       " './datasets/cropped_faces/s35_15.jpg',\n",
       " './datasets/cropped_faces/s36_01.jpg',\n",
       " './datasets/cropped_faces/s36_02.jpg',\n",
       " './datasets/cropped_faces/s36_03.jpg',\n",
       " './datasets/cropped_faces/s36_04.jpg',\n",
       " './datasets/cropped_faces/s36_05.jpg',\n",
       " './datasets/cropped_faces/s36_06.jpg',\n",
       " './datasets/cropped_faces/s36_07.jpg',\n",
       " './datasets/cropped_faces/s36_08.jpg',\n",
       " './datasets/cropped_faces/s36_09.jpg',\n",
       " './datasets/cropped_faces/s36_10.jpg',\n",
       " './datasets/cropped_faces/s36_11.jpg',\n",
       " './datasets/cropped_faces/s36_12.jpg',\n",
       " './datasets/cropped_faces/s36_13.jpg',\n",
       " './datasets/cropped_faces/s36_14.jpg',\n",
       " './datasets/cropped_faces/s36_15.jpg',\n",
       " './datasets/cropped_faces/s37_01.jpg',\n",
       " './datasets/cropped_faces/s37_02.jpg',\n",
       " './datasets/cropped_faces/s37_03.jpg',\n",
       " './datasets/cropped_faces/s37_04.jpg',\n",
       " './datasets/cropped_faces/s37_05.jpg',\n",
       " './datasets/cropped_faces/s37_06.jpg',\n",
       " './datasets/cropped_faces/s37_07.jpg',\n",
       " './datasets/cropped_faces/s37_08.jpg',\n",
       " './datasets/cropped_faces/s37_09.jpg',\n",
       " './datasets/cropped_faces/s37_10.jpg',\n",
       " './datasets/cropped_faces/s37_11.jpg',\n",
       " './datasets/cropped_faces/s37_12.jpg',\n",
       " './datasets/cropped_faces/s37_13.jpg',\n",
       " './datasets/cropped_faces/s37_14.jpg',\n",
       " './datasets/cropped_faces/s37_15.jpg',\n",
       " './datasets/cropped_faces/s38_01.jpg',\n",
       " './datasets/cropped_faces/s38_02.jpg',\n",
       " './datasets/cropped_faces/s38_03.jpg',\n",
       " './datasets/cropped_faces/s38_04.jpg',\n",
       " './datasets/cropped_faces/s38_05.jpg',\n",
       " './datasets/cropped_faces/s38_06.jpg',\n",
       " './datasets/cropped_faces/s38_07.jpg',\n",
       " './datasets/cropped_faces/s38_08.jpg',\n",
       " './datasets/cropped_faces/s38_09.jpg',\n",
       " './datasets/cropped_faces/s38_10.jpg',\n",
       " './datasets/cropped_faces/s38_11.jpg',\n",
       " './datasets/cropped_faces/s38_12.jpg',\n",
       " './datasets/cropped_faces/s38_13.jpg',\n",
       " './datasets/cropped_faces/s38_14.jpg',\n",
       " './datasets/cropped_faces/s38_15.jpg',\n",
       " './datasets/cropped_faces/s39_01.jpg',\n",
       " './datasets/cropped_faces/s39_02.jpg',\n",
       " './datasets/cropped_faces/s39_03.jpg',\n",
       " './datasets/cropped_faces/s39_04.jpg',\n",
       " './datasets/cropped_faces/s39_05.jpg',\n",
       " './datasets/cropped_faces/s39_06.jpg',\n",
       " './datasets/cropped_faces/s39_07.jpg',\n",
       " './datasets/cropped_faces/s39_08.jpg',\n",
       " './datasets/cropped_faces/s39_09.jpg',\n",
       " './datasets/cropped_faces/s39_10.jpg',\n",
       " './datasets/cropped_faces/s39_11.jpg',\n",
       " './datasets/cropped_faces/s39_12.jpg',\n",
       " './datasets/cropped_faces/s39_13.jpg',\n",
       " './datasets/cropped_faces/s39_14.jpg',\n",
       " './datasets/cropped_faces/s39_15.jpg',\n",
       " './datasets/cropped_faces/s40_01.jpg',\n",
       " './datasets/cropped_faces/s40_02.jpg',\n",
       " './datasets/cropped_faces/s40_03.jpg',\n",
       " './datasets/cropped_faces/s40_04.jpg',\n",
       " './datasets/cropped_faces/s40_05.jpg',\n",
       " './datasets/cropped_faces/s40_06.jpg',\n",
       " './datasets/cropped_faces/s40_07.jpg',\n",
       " './datasets/cropped_faces/s40_08.jpg',\n",
       " './datasets/cropped_faces/s40_09.jpg',\n",
       " './datasets/cropped_faces/s40_10.jpg',\n",
       " './datasets/cropped_faces/s40_11.jpg',\n",
       " './datasets/cropped_faces/s40_12.jpg',\n",
       " './datasets/cropped_faces/s40_13.jpg',\n",
       " './datasets/cropped_faces/s40_14.jpg',\n",
       " './datasets/cropped_faces/s40_15.jpg',\n",
       " './datasets/cropped_faces/s41_01.jpg',\n",
       " './datasets/cropped_faces/s41_02.jpg',\n",
       " './datasets/cropped_faces/s41_03.jpg',\n",
       " './datasets/cropped_faces/s41_04.jpg',\n",
       " './datasets/cropped_faces/s41_05.jpg',\n",
       " './datasets/cropped_faces/s41_06.jpg',\n",
       " './datasets/cropped_faces/s41_07.jpg',\n",
       " './datasets/cropped_faces/s41_08.jpg',\n",
       " './datasets/cropped_faces/s41_09.jpg',\n",
       " './datasets/cropped_faces/s41_10.jpg',\n",
       " './datasets/cropped_faces/s41_11.jpg',\n",
       " './datasets/cropped_faces/s41_12.jpg',\n",
       " './datasets/cropped_faces/s41_13.jpg',\n",
       " './datasets/cropped_faces/s41_14.jpg',\n",
       " './datasets/cropped_faces/s41_15.jpg',\n",
       " './datasets/cropped_faces/s42_01.jpg',\n",
       " './datasets/cropped_faces/s42_02.jpg',\n",
       " './datasets/cropped_faces/s42_03.jpg',\n",
       " './datasets/cropped_faces/s42_04.jpg',\n",
       " './datasets/cropped_faces/s42_05.jpg',\n",
       " './datasets/cropped_faces/s42_06.jpg',\n",
       " './datasets/cropped_faces/s42_07.jpg',\n",
       " './datasets/cropped_faces/s42_08.jpg',\n",
       " './datasets/cropped_faces/s42_09.jpg',\n",
       " './datasets/cropped_faces/s42_10.jpg',\n",
       " './datasets/cropped_faces/s42_11.jpg',\n",
       " './datasets/cropped_faces/s42_12.jpg',\n",
       " './datasets/cropped_faces/s42_13.jpg',\n",
       " './datasets/cropped_faces/s42_14.jpg',\n",
       " './datasets/cropped_faces/s42_15.jpg',\n",
       " './datasets/cropped_faces/s43_01.jpg',\n",
       " './datasets/cropped_faces/s43_02.jpg',\n",
       " './datasets/cropped_faces/s43_03.jpg',\n",
       " './datasets/cropped_faces/s43_04.jpg',\n",
       " './datasets/cropped_faces/s43_05.jpg',\n",
       " './datasets/cropped_faces/s43_06.jpg',\n",
       " './datasets/cropped_faces/s43_07.jpg',\n",
       " './datasets/cropped_faces/s43_08.jpg',\n",
       " './datasets/cropped_faces/s43_09.jpg',\n",
       " './datasets/cropped_faces/s43_10.jpg',\n",
       " './datasets/cropped_faces/s43_11.jpg',\n",
       " './datasets/cropped_faces/s43_12.jpg',\n",
       " './datasets/cropped_faces/s43_13.jpg',\n",
       " './datasets/cropped_faces/s43_14.jpg',\n",
       " './datasets/cropped_faces/s43_15.jpg',\n",
       " './datasets/cropped_faces/s44_01.jpg',\n",
       " './datasets/cropped_faces/s44_02.jpg',\n",
       " './datasets/cropped_faces/s44_03.jpg',\n",
       " './datasets/cropped_faces/s44_04.jpg',\n",
       " './datasets/cropped_faces/s44_05.jpg',\n",
       " './datasets/cropped_faces/s44_06.jpg',\n",
       " './datasets/cropped_faces/s44_07.jpg',\n",
       " './datasets/cropped_faces/s44_08.jpg',\n",
       " './datasets/cropped_faces/s44_09.jpg',\n",
       " './datasets/cropped_faces/s44_10.jpg',\n",
       " './datasets/cropped_faces/s44_11.jpg',\n",
       " './datasets/cropped_faces/s44_12.jpg',\n",
       " './datasets/cropped_faces/s44_13.jpg',\n",
       " './datasets/cropped_faces/s44_14.jpg',\n",
       " './datasets/cropped_faces/s44_15.jpg',\n",
       " './datasets/cropped_faces/s45_01.jpg',\n",
       " './datasets/cropped_faces/s45_02.jpg',\n",
       " './datasets/cropped_faces/s45_03.jpg',\n",
       " './datasets/cropped_faces/s45_04.jpg',\n",
       " './datasets/cropped_faces/s45_05.jpg',\n",
       " './datasets/cropped_faces/s45_06.jpg',\n",
       " './datasets/cropped_faces/s45_07.jpg',\n",
       " './datasets/cropped_faces/s45_08.jpg',\n",
       " './datasets/cropped_faces/s45_09.jpg',\n",
       " './datasets/cropped_faces/s45_10.jpg',\n",
       " './datasets/cropped_faces/s45_11.jpg',\n",
       " './datasets/cropped_faces/s45_12.jpg',\n",
       " './datasets/cropped_faces/s45_13.jpg',\n",
       " './datasets/cropped_faces/s45_14.jpg',\n",
       " './datasets/cropped_faces/s45_15.jpg',\n",
       " './datasets/cropped_faces/s46_01.jpg',\n",
       " './datasets/cropped_faces/s46_02.jpg',\n",
       " './datasets/cropped_faces/s46_03.jpg',\n",
       " './datasets/cropped_faces/s46_04.jpg',\n",
       " './datasets/cropped_faces/s46_05.jpg',\n",
       " './datasets/cropped_faces/s46_06.jpg',\n",
       " './datasets/cropped_faces/s46_07.jpg',\n",
       " './datasets/cropped_faces/s46_08.jpg',\n",
       " './datasets/cropped_faces/s46_09.jpg',\n",
       " './datasets/cropped_faces/s46_10.jpg',\n",
       " './datasets/cropped_faces/s46_11.jpg',\n",
       " './datasets/cropped_faces/s46_12.jpg',\n",
       " './datasets/cropped_faces/s46_13.jpg',\n",
       " './datasets/cropped_faces/s46_14.jpg',\n",
       " './datasets/cropped_faces/s46_15.jpg',\n",
       " './datasets/cropped_faces/s47_01.jpg',\n",
       " './datasets/cropped_faces/s47_02.jpg',\n",
       " './datasets/cropped_faces/s47_03.jpg',\n",
       " './datasets/cropped_faces/s47_04.jpg',\n",
       " './datasets/cropped_faces/s47_05.jpg',\n",
       " './datasets/cropped_faces/s47_06.jpg',\n",
       " './datasets/cropped_faces/s47_07.jpg',\n",
       " './datasets/cropped_faces/s47_08.jpg',\n",
       " './datasets/cropped_faces/s47_09.jpg',\n",
       " './datasets/cropped_faces/s47_10.jpg',\n",
       " './datasets/cropped_faces/s47_11.jpg',\n",
       " './datasets/cropped_faces/s47_12.jpg',\n",
       " './datasets/cropped_faces/s47_13.jpg',\n",
       " './datasets/cropped_faces/s47_14.jpg',\n",
       " './datasets/cropped_faces/s47_15.jpg',\n",
       " './datasets/cropped_faces/s48_01.jpg',\n",
       " './datasets/cropped_faces/s48_02.jpg',\n",
       " './datasets/cropped_faces/s48_03.jpg',\n",
       " './datasets/cropped_faces/s48_04.jpg',\n",
       " './datasets/cropped_faces/s48_05.jpg',\n",
       " './datasets/cropped_faces/s48_06.jpg',\n",
       " './datasets/cropped_faces/s48_07.jpg',\n",
       " './datasets/cropped_faces/s48_08.jpg',\n",
       " './datasets/cropped_faces/s48_09.jpg',\n",
       " './datasets/cropped_faces/s48_10.jpg',\n",
       " './datasets/cropped_faces/s48_11.jpg',\n",
       " './datasets/cropped_faces/s48_12.jpg',\n",
       " './datasets/cropped_faces/s48_13.jpg',\n",
       " './datasets/cropped_faces/s48_14.jpg',\n",
       " './datasets/cropped_faces/s48_15.jpg',\n",
       " './datasets/cropped_faces/s49_01.jpg',\n",
       " './datasets/cropped_faces/s49_02.jpg',\n",
       " './datasets/cropped_faces/s49_03.jpg',\n",
       " './datasets/cropped_faces/s49_04.jpg',\n",
       " './datasets/cropped_faces/s49_05.jpg',\n",
       " './datasets/cropped_faces/s49_06.jpg',\n",
       " './datasets/cropped_faces/s49_07.jpg',\n",
       " './datasets/cropped_faces/s49_08.jpg',\n",
       " './datasets/cropped_faces/s49_09.jpg',\n",
       " './datasets/cropped_faces/s49_10.jpg',\n",
       " './datasets/cropped_faces/s49_11.jpg',\n",
       " './datasets/cropped_faces/s49_12.jpg',\n",
       " './datasets/cropped_faces/s49_13.jpg',\n",
       " './datasets/cropped_faces/s49_14.jpg',\n",
       " './datasets/cropped_faces/s49_15.jpg',\n",
       " './datasets/cropped_faces/s50_01.jpg',\n",
       " './datasets/cropped_faces/s50_02.jpg',\n",
       " './datasets/cropped_faces/s50_03.jpg',\n",
       " './datasets/cropped_faces/s50_04.jpg',\n",
       " './datasets/cropped_faces/s50_05.jpg',\n",
       " './datasets/cropped_faces/s50_06.jpg',\n",
       " './datasets/cropped_faces/s50_07.jpg',\n",
       " './datasets/cropped_faces/s50_08.jpg',\n",
       " './datasets/cropped_faces/s50_09.jpg',\n",
       " './datasets/cropped_faces/s50_10.jpg',\n",
       " './datasets/cropped_faces/s50_11.jpg',\n",
       " './datasets/cropped_faces/s50_12.jpg',\n",
       " './datasets/cropped_faces/s50_13.jpg',\n",
       " './datasets/cropped_faces/s50_14.jpg',\n",
       " './datasets/cropped_faces/s50_15.jpg']"
      ]
     },
     "execution_count": 19,
     "metadata": {},
     "output_type": "execute_result"
    }
   ],
   "source": [
    "paths"
   ]
  },
  {
   "cell_type": "markdown",
   "id": "67db9db1",
   "metadata": {},
   "source": [
    "\n",
    "## Divisão em Treino em Teste"
   ]
  },
  {
   "cell_type": "code",
   "execution_count": 20,
   "id": "4e11538e",
   "metadata": {
    "scrolled": true
   },
   "outputs": [],
   "source": [
    "def base_treino_teste(paths):\n",
    "    \n",
    "    imagens_treino, ids_treino = [],[]\n",
    "    imagens_teste, ids_teste = [],[]\n",
    "    \n",
    "    paths = [os.path.join(path, f) for f in os.listdir(path)]\n",
    "    \n",
    "    for img_path in paths:\n",
    "        imagem = cv2.imread(img_path)\n",
    "        imagem = cv2.resize(imagem, (200,200))\n",
    "        imagem = cv2.cvtColor(imagem, cv2.COLOR_BGR2GRAY)\n",
    "\n",
    "        imagens_nome = int(os.path.basename(img_path).split('.')[0][-2:])\n",
    "        ids_nome = int(os.path.basename(img_path).split('.')[0].split('_')[0][-2:])\n",
    "        if imagens_nome <= 10:\n",
    "            imagens_treino.append(imagem)\n",
    "            ids_treino.append(ids_nome)\n",
    "        else:\n",
    "            imagens_teste.append(imagem)\n",
    "            ids_teste.append(ids_nome)\n",
    "            \n",
    "    return np.asarray(imagens_treino), np.asarray(ids_treino), np.asarray(imagens_teste), np.asarray(ids_teste)"
   ]
  },
  {
   "cell_type": "code",
   "execution_count": 21,
   "id": "76d1b78d",
   "metadata": {
    "scrolled": false
   },
   "outputs": [],
   "source": [
    "imagens_treino, ids_treino, imagens_teste, ids_teste = base_treino_teste(path)"
   ]
  },
  {
   "cell_type": "code",
   "execution_count": 22,
   "id": "1fda014a",
   "metadata": {},
   "outputs": [
    {
     "data": {
      "text/plain": [
       "((500, 200, 200), (250, 200, 200))"
      ]
     },
     "execution_count": 22,
     "metadata": {},
     "output_type": "execute_result"
    }
   ],
   "source": [
    "imagens_treino.shape, imagens_teste.shape"
   ]
  },
  {
   "cell_type": "code",
   "execution_count": 23,
   "id": "3975bd4b",
   "metadata": {},
   "outputs": [
    {
     "data": {
      "text/plain": [
       "array([ 1,  1,  1,  1,  1,  1,  1,  1,  1,  1,  2,  2,  2,  2,  2,  2,  2,\n",
       "        2,  2,  2,  3,  3,  3,  3,  3,  3,  3,  3,  3,  3,  4,  4,  4,  4,\n",
       "        4,  4,  4,  4,  4,  4,  5,  5,  5,  5,  5,  5,  5,  5,  5,  5,  6,\n",
       "        6,  6,  6,  6,  6,  6,  6,  6,  6,  7,  7,  7,  7,  7,  7,  7,  7,\n",
       "        7,  7,  8,  8,  8,  8,  8,  8,  8,  8,  8,  8,  9,  9,  9,  9,  9,\n",
       "        9,  9,  9,  9,  9, 10, 10, 10, 10, 10, 10, 10, 10, 10, 10, 11, 11,\n",
       "       11, 11, 11, 11, 11, 11, 11, 11, 12, 12, 12, 12, 12, 12, 12, 12, 12,\n",
       "       12, 13, 13, 13, 13, 13, 13, 13, 13, 13, 13, 14, 14, 14, 14, 14, 14,\n",
       "       14, 14, 14, 14, 15, 15, 15, 15, 15, 15, 15, 15, 15, 15, 16, 16, 16,\n",
       "       16, 16, 16, 16, 16, 16, 16, 17, 17, 17, 17, 17, 17, 17, 17, 17, 17,\n",
       "       18, 18, 18, 18, 18, 18, 18, 18, 18, 18, 19, 19, 19, 19, 19, 19, 19,\n",
       "       19, 19, 19, 20, 20, 20, 20, 20, 20, 20, 20, 20, 20, 21, 21, 21, 21,\n",
       "       21, 21, 21, 21, 21, 21, 22, 22, 22, 22, 22, 22, 22, 22, 22, 22, 23,\n",
       "       23, 23, 23, 23, 23, 23, 23, 23, 23, 24, 24, 24, 24, 24, 24, 24, 24,\n",
       "       24, 24, 25, 25, 25, 25, 25, 25, 25, 25, 25, 25, 26, 26, 26, 26, 26,\n",
       "       26, 26, 26, 26, 26, 27, 27, 27, 27, 27, 27, 27, 27, 27, 27, 28, 28,\n",
       "       28, 28, 28, 28, 28, 28, 28, 28, 29, 29, 29, 29, 29, 29, 29, 29, 29,\n",
       "       29, 30, 30, 30, 30, 30, 30, 30, 30, 30, 30, 31, 31, 31, 31, 31, 31,\n",
       "       31, 31, 31, 31, 32, 32, 32, 32, 32, 32, 32, 32, 32, 32, 33, 33, 33,\n",
       "       33, 33, 33, 33, 33, 33, 33, 34, 34, 34, 34, 34, 34, 34, 34, 34, 34,\n",
       "       35, 35, 35, 35, 35, 35, 35, 35, 35, 35, 36, 36, 36, 36, 36, 36, 36,\n",
       "       36, 36, 36, 37, 37, 37, 37, 37, 37, 37, 37, 37, 37, 38, 38, 38, 38,\n",
       "       38, 38, 38, 38, 38, 38, 39, 39, 39, 39, 39, 39, 39, 39, 39, 39, 40,\n",
       "       40, 40, 40, 40, 40, 40, 40, 40, 40, 41, 41, 41, 41, 41, 41, 41, 41,\n",
       "       41, 41, 42, 42, 42, 42, 42, 42, 42, 42, 42, 42, 43, 43, 43, 43, 43,\n",
       "       43, 43, 43, 43, 43, 44, 44, 44, 44, 44, 44, 44, 44, 44, 44, 45, 45,\n",
       "       45, 45, 45, 45, 45, 45, 45, 45, 46, 46, 46, 46, 46, 46, 46, 46, 46,\n",
       "       46, 47, 47, 47, 47, 47, 47, 47, 47, 47, 47, 48, 48, 48, 48, 48, 48,\n",
       "       48, 48, 48, 48, 49, 49, 49, 49, 49, 49, 49, 49, 49, 49, 50, 50, 50,\n",
       "       50, 50, 50, 50, 50, 50, 50])"
      ]
     },
     "execution_count": 23,
     "metadata": {},
     "output_type": "execute_result"
    }
   ],
   "source": [
    "ids_treino"
   ]
  },
  {
   "cell_type": "code",
   "execution_count": 24,
   "id": "a1d402b5",
   "metadata": {},
   "outputs": [
    {
     "data": {
      "text/plain": [
       "array([ 1,  1,  1,  1,  1,  2,  2,  2,  2,  2,  3,  3,  3,  3,  3,  4,  4,\n",
       "        4,  4,  4,  5,  5,  5,  5,  5,  6,  6,  6,  6,  6,  7,  7,  7,  7,\n",
       "        7,  8,  8,  8,  8,  8,  9,  9,  9,  9,  9, 10, 10, 10, 10, 10, 11,\n",
       "       11, 11, 11, 11, 12, 12, 12, 12, 12, 13, 13, 13, 13, 13, 14, 14, 14,\n",
       "       14, 14, 15, 15, 15, 15, 15, 16, 16, 16, 16, 16, 17, 17, 17, 17, 17,\n",
       "       18, 18, 18, 18, 18, 19, 19, 19, 19, 19, 20, 20, 20, 20, 20, 21, 21,\n",
       "       21, 21, 21, 22, 22, 22, 22, 22, 23, 23, 23, 23, 23, 24, 24, 24, 24,\n",
       "       24, 25, 25, 25, 25, 25, 26, 26, 26, 26, 26, 27, 27, 27, 27, 27, 28,\n",
       "       28, 28, 28, 28, 29, 29, 29, 29, 29, 30, 30, 30, 30, 30, 31, 31, 31,\n",
       "       31, 31, 32, 32, 32, 32, 32, 33, 33, 33, 33, 33, 34, 34, 34, 34, 34,\n",
       "       35, 35, 35, 35, 35, 36, 36, 36, 36, 36, 37, 37, 37, 37, 37, 38, 38,\n",
       "       38, 38, 38, 39, 39, 39, 39, 39, 40, 40, 40, 40, 40, 41, 41, 41, 41,\n",
       "       41, 42, 42, 42, 42, 42, 43, 43, 43, 43, 43, 44, 44, 44, 44, 44, 45,\n",
       "       45, 45, 45, 45, 46, 46, 46, 46, 46, 47, 47, 47, 47, 47, 48, 48, 48,\n",
       "       48, 48, 49, 49, 49, 49, 49, 50, 50, 50, 50, 50])"
      ]
     },
     "execution_count": 24,
     "metadata": {},
     "output_type": "execute_result"
    }
   ],
   "source": [
    "ids_teste"
   ]
  },
  {
   "cell_type": "markdown",
   "id": "a4e689c5",
   "metadata": {},
   "source": [
    "## Modelo EigenFaces"
   ]
  },
  {
   "cell_type": "code",
   "execution_count": 25,
   "id": "ad66ce06",
   "metadata": {},
   "outputs": [],
   "source": [
    "model_eigen = cv2.face.EigenFaceRecognizer_create()\n",
    "model_eigen.train(imagens_treino, ids_treino)"
   ]
  },
  {
   "cell_type": "markdown",
   "id": "1c517913",
   "metadata": {},
   "source": [
    "### Previsão um modelo"
   ]
  },
  {
   "cell_type": "code",
   "execution_count": 31,
   "id": "295b4d32",
   "metadata": {},
   "outputs": [
    {
     "data": {
      "text/plain": [
       "(1, 4451.10405648532)"
      ]
     },
     "execution_count": 31,
     "metadata": {},
     "output_type": "execute_result"
    }
   ],
   "source": [
    "previsao= model_eigen.predict(imagens_teste[1])\n",
    "previsao"
   ]
  },
  {
   "cell_type": "markdown",
   "id": "0dcf1cdd",
   "metadata": {},
   "source": [
    "### Previsão da base de dados de Teste"
   ]
  },
  {
   "cell_type": "code",
   "execution_count": 27,
   "id": "4ad859af",
   "metadata": {},
   "outputs": [],
   "source": [
    "previsoes = []\n",
    "for i in imagens_teste:\n",
    "    previsoes.append(model_eigen.predict(i)[0])\n"
   ]
  },
  {
   "cell_type": "code",
   "execution_count": 28,
   "id": "221c6e5a",
   "metadata": {},
   "outputs": [
    {
     "name": "stdout",
     "output_type": "stream",
     "text": [
      "[35, 1, 1, 1, 4, 32, 32, 2, 2, 2, 3, 27, 3, 3, 3, 4, 4, 4, 4, 4, 16, 5, 4, 5, 5, 6, 6, 6, 6, 6, 7, 7, 1, 7, 7, 8, 8, 8, 8, 1, 9, 33, 33, 27, 9, 38, 10, 10, 6, 10, 22, 22, 2, 11, 11, 12, 12, 12, 12, 12, 1, 13, 32, 33, 13, 14, 50, 1, 3, 1, 15, 15, 15, 15, 15, 16, 16, 4, 16, 27, 17, 17, 17, 17, 17, 27, 4, 27, 18, 27, 19, 19, 19, 19, 19, 20, 20, 20, 20, 20, 10, 21, 21, 21, 21, 22, 22, 22, 22, 22, 41, 6, 29, 23, 4, 24, 24, 24, 24, 24, 25, 25, 25, 25, 25, 26, 26, 26, 26, 26, 27, 27, 27, 27, 27, 28, 28, 28, 28, 28, 44, 16, 40, 29, 29, 30, 30, 30, 30, 30, 31, 18, 31, 31, 31, 32, 32, 4, 32, 32, 33, 33, 33, 33, 33, 35, 1, 34, 34, 35, 35, 35, 35, 35, 35, 36, 36, 36, 8, 36, 49, 37, 37, 37, 37, 38, 38, 38, 38, 38, 32, 32, 39, 39, 39, 40, 4, 1, 4, 40, 41, 33, 33, 22, 22, 42, 42, 42, 42, 26, 43, 22, 43, 25, 43, 4, 32, 4, 4, 16, 45, 45, 45, 45, 45, 46, 46, 46, 27, 1, 47, 47, 47, 47, 47, 6, 48, 48, 48, 48, 49, 49, 49, 49, 49, 50, 50, 50, 50, 50]\n"
     ]
    }
   ],
   "source": [
    "print(previsoes)"
   ]
  },
  {
   "cell_type": "code",
   "execution_count": 29,
   "id": "7d9915d3",
   "metadata": {},
   "outputs": [
    {
     "data": {
      "text/plain": [
       "array([ 1,  1,  1,  1,  1,  2,  2,  2,  2,  2,  3,  3,  3,  3,  3,  4,  4,\n",
       "        4,  4,  4,  5,  5,  5,  5,  5,  6,  6,  6,  6,  6,  7,  7,  7,  7,\n",
       "        7,  8,  8,  8,  8,  8,  9,  9,  9,  9,  9, 10, 10, 10, 10, 10, 11,\n",
       "       11, 11, 11, 11, 12, 12, 12, 12, 12, 13, 13, 13, 13, 13, 14, 14, 14,\n",
       "       14, 14, 15, 15, 15, 15, 15, 16, 16, 16, 16, 16, 17, 17, 17, 17, 17,\n",
       "       18, 18, 18, 18, 18, 19, 19, 19, 19, 19, 20, 20, 20, 20, 20, 21, 21,\n",
       "       21, 21, 21, 22, 22, 22, 22, 22, 23, 23, 23, 23, 23, 24, 24, 24, 24,\n",
       "       24, 25, 25, 25, 25, 25, 26, 26, 26, 26, 26, 27, 27, 27, 27, 27, 28,\n",
       "       28, 28, 28, 28, 29, 29, 29, 29, 29, 30, 30, 30, 30, 30, 31, 31, 31,\n",
       "       31, 31, 32, 32, 32, 32, 32, 33, 33, 33, 33, 33, 34, 34, 34, 34, 34,\n",
       "       35, 35, 35, 35, 35, 36, 36, 36, 36, 36, 37, 37, 37, 37, 37, 38, 38,\n",
       "       38, 38, 38, 39, 39, 39, 39, 39, 40, 40, 40, 40, 40, 41, 41, 41, 41,\n",
       "       41, 42, 42, 42, 42, 42, 43, 43, 43, 43, 43, 44, 44, 44, 44, 44, 45,\n",
       "       45, 45, 45, 45, 46, 46, 46, 46, 46, 47, 47, 47, 47, 47, 48, 48, 48,\n",
       "       48, 48, 49, 49, 49, 49, 49, 50, 50, 50, 50, 50])"
      ]
     },
     "execution_count": 29,
     "metadata": {},
     "output_type": "execute_result"
    }
   ],
   "source": [
    "ids_teste"
   ]
  },
  {
   "cell_type": "markdown",
   "id": "45f4080b",
   "metadata": {},
   "source": [
    "### Avaliação do Modelo"
   ]
  },
  {
   "cell_type": "code",
   "execution_count": 30,
   "id": "e45ce4ca",
   "metadata": {},
   "outputs": [
    {
     "data": {
      "text/plain": [
       "0.74"
      ]
     },
     "execution_count": 30,
     "metadata": {},
     "output_type": "execute_result"
    }
   ],
   "source": [
    "accuracy_score(ids_teste, previsoes)"
   ]
  },
  {
   "cell_type": "markdown",
   "id": "f3858325",
   "metadata": {},
   "source": [
    "### Salvando o modelo"
   ]
  },
  {
   "cell_type": "code",
   "execution_count": 16,
   "id": "ae237f9d",
   "metadata": {},
   "outputs": [],
   "source": [
    "# model_eigen.write('./modelos/model_eigen.yml')"
   ]
  },
  {
   "cell_type": "markdown",
   "id": "d12ba58d",
   "metadata": {},
   "source": [
    "## Modelo FisherFace"
   ]
  },
  {
   "cell_type": "code",
   "execution_count": 117,
   "id": "d9825363",
   "metadata": {},
   "outputs": [],
   "source": [
    "model_fisher = cv2.face.FisherFaceRecognizer_create(num_components=100)\n",
    "model_fisher.train(imagens_treino, ids_treino)"
   ]
  },
  {
   "cell_type": "code",
   "execution_count": 118,
   "id": "d169a7af",
   "metadata": {},
   "outputs": [],
   "source": [
    "# model_fisher.write('./modelos/model_fisher.yml')"
   ]
  },
  {
   "cell_type": "markdown",
   "id": "3f5ac0ae",
   "metadata": {},
   "source": [
    "### Previsão da base de dados de Teste"
   ]
  },
  {
   "cell_type": "code",
   "execution_count": 119,
   "id": "2a71d232",
   "metadata": {},
   "outputs": [],
   "source": [
    "previsoes_fisher = []\n",
    "for i in imagens_teste:\n",
    "    previsoes_fisher.append(model_fisher.predict(i)[0])\n"
   ]
  },
  {
   "cell_type": "code",
   "execution_count": 120,
   "id": "c726abe3",
   "metadata": {},
   "outputs": [
    {
     "name": "stdout",
     "output_type": "stream",
     "text": [
      "[32, 1, 20, 1, 25, 20, 32, 2, 2, 2, 3, 3, 3, 3, 3, 32, 4, 4, 4, 4, 14, 5, 32, 5, 5, 6, 32, 32, 6, 6, 25, 32, 32, 32, 7, 8, 32, 8, 8, 13, 32, 9, 33, 32, 9, 32, 32, 32, 35, 43, 16, 22, 15, 25, 32, 25, 32, 12, 25, 32, 1, 13, 32, 20, 13, 32, 9, 32, 32, 32, 15, 15, 15, 15, 15, 32, 16, 16, 16, 32, 17, 17, 17, 17, 17, 22, 4, 25, 32, 32, 35, 19, 19, 19, 35, 20, 20, 20, 20, 20, 30, 21, 21, 21, 21, 22, 22, 22, 22, 22, 31, 31, 32, 23, 50, 24, 24, 24, 2, 24, 20, 25, 25, 25, 25, 26, 26, 25, 26, 26, 16, 27, 25, 25, 27, 28, 28, 28, 28, 28, 9, 32, 32, 23, 29, 30, 30, 30, 30, 30, 31, 31, 31, 31, 31, 32, 32, 32, 32, 32, 16, 33, 33, 16, 32, 32, 20, 34, 34, 8, 35, 32, 32, 33, 35, 36, 20, 36, 16, 36, 20, 20, 18, 25, 32, 38, 38, 38, 32, 38, 32, 32, 20, 32, 32, 40, 40, 32, 40, 40, 25, 40, 33, 33, 12, 32, 42, 42, 42, 44, 20, 25, 43, 32, 43, 32, 32, 16, 16, 25, 33, 45, 45, 16, 45, 46, 25, 25, 2, 20, 47, 47, 47, 2, 47, 32, 48, 45, 48, 48, 49, 49, 32, 49, 49, 50, 50, 2, 50, 50]\n"
     ]
    }
   ],
   "source": [
    "print(previsoes_fisher)"
   ]
  },
  {
   "cell_type": "code",
   "execution_count": 121,
   "id": "b4a48ad2",
   "metadata": {},
   "outputs": [
    {
     "data": {
      "text/plain": [
       "array([ 1,  1,  1,  1,  1,  2,  2,  2,  2,  2,  3,  3,  3,  3,  3,  4,  4,\n",
       "        4,  4,  4,  5,  5,  5,  5,  5,  6,  6,  6,  6,  6,  7,  7,  7,  7,\n",
       "        7,  8,  8,  8,  8,  8,  9,  9,  9,  9,  9, 10, 10, 10, 10, 10, 11,\n",
       "       11, 11, 11, 11, 12, 12, 12, 12, 12, 13, 13, 13, 13, 13, 14, 14, 14,\n",
       "       14, 14, 15, 15, 15, 15, 15, 16, 16, 16, 16, 16, 17, 17, 17, 17, 17,\n",
       "       18, 18, 18, 18, 18, 19, 19, 19, 19, 19, 20, 20, 20, 20, 20, 21, 21,\n",
       "       21, 21, 21, 22, 22, 22, 22, 22, 23, 23, 23, 23, 23, 24, 24, 24, 24,\n",
       "       24, 25, 25, 25, 25, 25, 26, 26, 26, 26, 26, 27, 27, 27, 27, 27, 28,\n",
       "       28, 28, 28, 28, 29, 29, 29, 29, 29, 30, 30, 30, 30, 30, 31, 31, 31,\n",
       "       31, 31, 32, 32, 32, 32, 32, 33, 33, 33, 33, 33, 34, 34, 34, 34, 34,\n",
       "       35, 35, 35, 35, 35, 36, 36, 36, 36, 36, 37, 37, 37, 37, 37, 38, 38,\n",
       "       38, 38, 38, 39, 39, 39, 39, 39, 40, 40, 40, 40, 40, 41, 41, 41, 41,\n",
       "       41, 42, 42, 42, 42, 42, 43, 43, 43, 43, 43, 44, 44, 44, 44, 44, 45,\n",
       "       45, 45, 45, 45, 46, 46, 46, 46, 46, 47, 47, 47, 47, 47, 48, 48, 48,\n",
       "       48, 48, 49, 49, 49, 49, 49, 50, 50, 50, 50, 50])"
      ]
     },
     "execution_count": 121,
     "metadata": {},
     "output_type": "execute_result"
    }
   ],
   "source": [
    "ids_teste"
   ]
  },
  {
   "cell_type": "code",
   "execution_count": 122,
   "id": "c57dcb50",
   "metadata": {},
   "outputs": [
    {
     "data": {
      "text/plain": [
       "0.544"
      ]
     },
     "execution_count": 122,
     "metadata": {},
     "output_type": "execute_result"
    }
   ],
   "source": [
    "accuracy_score(ids_teste, previsoes_fisher)"
   ]
  },
  {
   "cell_type": "markdown",
   "id": "cd9e54e6",
   "metadata": {},
   "source": [
    "## Modelo LBPH"
   ]
  },
  {
   "cell_type": "code",
   "execution_count": 84,
   "id": "230c3ef0",
   "metadata": {},
   "outputs": [],
   "source": [
    "model_lbph = cv2.face.LBPHFaceRecognizer_create(radius=1, neighbors=5, grid_x=8, grid_y=8)\n",
    "model_lbph.train(imagens_treino, ids_treino)"
   ]
  },
  {
   "cell_type": "code",
   "execution_count": 85,
   "id": "8bfe8ac4",
   "metadata": {},
   "outputs": [],
   "source": [
    "previsoes_lbph = []\n",
    "for i in imagens_teste:\n",
    "    previsoes_lbph.append(model_lbph.predict(i)[0])\n"
   ]
  },
  {
   "cell_type": "code",
   "execution_count": 86,
   "id": "c4aad298",
   "metadata": {},
   "outputs": [
    {
     "name": "stdout",
     "output_type": "stream",
     "text": [
      "[8, 1, 1, 1, 46, 1, 2, 2, 2, 2, 3, 3, 3, 3, 3, 4, 4, 4, 4, 4, 29, 5, 5, 5, 5, 6, 6, 6, 6, 6, 15, 7, 7, 7, 7, 8, 8, 8, 8, 8, 9, 9, 1, 9, 9, 10, 10, 38, 10, 10, 11, 2, 11, 11, 11, 12, 12, 12, 40, 12, 35, 13, 46, 33, 13, 14, 8, 44, 2, 14, 15, 15, 15, 15, 15, 16, 16, 48, 27, 18, 17, 29, 17, 17, 17, 22, 48, 27, 44, 9, 19, 19, 19, 19, 19, 20, 22, 20, 20, 20, 10, 21, 21, 21, 21, 22, 1, 22, 22, 22, 23, 4, 29, 23, 23, 24, 37, 24, 24, 24, 25, 25, 25, 25, 25, 26, 26, 31, 26, 26, 27, 27, 27, 27, 27, 28, 28, 28, 28, 28, 41, 16, 29, 29, 29, 30, 30, 30, 30, 30, 31, 39, 31, 31, 31, 32, 32, 4, 1, 32, 33, 33, 33, 33, 33, 34, 34, 34, 34, 14, 35, 16, 34, 35, 35, 36, 36, 36, 36, 36, 49, 37, 41, 37, 37, 38, 38, 38, 38, 38, 39, 39, 39, 16, 16, 40, 40, 40, 29, 40, 41, 31, 33, 45, 29, 42, 42, 42, 42, 42, 43, 45, 43, 43, 43, 31, 44, 44, 44, 44, 45, 45, 45, 45, 45, 46, 46, 46, 46, 48, 47, 47, 47, 47, 47, 48, 48, 48, 48, 48, 49, 49, 49, 49, 49, 50, 50, 50, 50, 50]\n"
     ]
    }
   ],
   "source": [
    "print(previsoes_lbph)"
   ]
  },
  {
   "cell_type": "code",
   "execution_count": 87,
   "id": "2e03ce58",
   "metadata": {},
   "outputs": [
    {
     "data": {
      "text/plain": [
       "array([ 1,  1,  1,  1,  1,  2,  2,  2,  2,  2,  3,  3,  3,  3,  3,  4,  4,\n",
       "        4,  4,  4,  5,  5,  5,  5,  5,  6,  6,  6,  6,  6,  7,  7,  7,  7,\n",
       "        7,  8,  8,  8,  8,  8,  9,  9,  9,  9,  9, 10, 10, 10, 10, 10, 11,\n",
       "       11, 11, 11, 11, 12, 12, 12, 12, 12, 13, 13, 13, 13, 13, 14, 14, 14,\n",
       "       14, 14, 15, 15, 15, 15, 15, 16, 16, 16, 16, 16, 17, 17, 17, 17, 17,\n",
       "       18, 18, 18, 18, 18, 19, 19, 19, 19, 19, 20, 20, 20, 20, 20, 21, 21,\n",
       "       21, 21, 21, 22, 22, 22, 22, 22, 23, 23, 23, 23, 23, 24, 24, 24, 24,\n",
       "       24, 25, 25, 25, 25, 25, 26, 26, 26, 26, 26, 27, 27, 27, 27, 27, 28,\n",
       "       28, 28, 28, 28, 29, 29, 29, 29, 29, 30, 30, 30, 30, 30, 31, 31, 31,\n",
       "       31, 31, 32, 32, 32, 32, 32, 33, 33, 33, 33, 33, 34, 34, 34, 34, 34,\n",
       "       35, 35, 35, 35, 35, 36, 36, 36, 36, 36, 37, 37, 37, 37, 37, 38, 38,\n",
       "       38, 38, 38, 39, 39, 39, 39, 39, 40, 40, 40, 40, 40, 41, 41, 41, 41,\n",
       "       41, 42, 42, 42, 42, 42, 43, 43, 43, 43, 43, 44, 44, 44, 44, 44, 45,\n",
       "       45, 45, 45, 45, 46, 46, 46, 46, 46, 47, 47, 47, 47, 47, 48, 48, 48,\n",
       "       48, 48, 49, 49, 49, 49, 49, 50, 50, 50, 50, 50])"
      ]
     },
     "execution_count": 87,
     "metadata": {},
     "output_type": "execute_result"
    }
   ],
   "source": [
    "ids_teste"
   ]
  },
  {
   "cell_type": "code",
   "execution_count": 88,
   "id": "ac12ebae",
   "metadata": {},
   "outputs": [
    {
     "data": {
      "text/plain": [
       "0.796"
      ]
     },
     "execution_count": 88,
     "metadata": {},
     "output_type": "execute_result"
    }
   ],
   "source": [
    "accuracy_score(ids_teste, previsoes_lbph)"
   ]
  },
  {
   "cell_type": "code",
   "execution_count": 90,
   "id": "cd6940d9",
   "metadata": {},
   "outputs": [
    {
     "data": {
      "text/plain": [
       "<matplotlib.image.AxesImage at 0x19d1b35d780>"
      ]
     },
     "execution_count": 90,
     "metadata": {},
     "output_type": "execute_result"
    },
    {
     "data": {
      "image/png": "[encoded data removed]",
      "text/plain": [
       "<Figure size 640x480 with 1 Axes>"
      ]
     },
     "metadata": {},
     "output_type": "display_data"
    }
   ],
   "source": [
    "plt.imshow(imagens_treino[0], cmap='gray')"
   ]
  },
  {
   "cell_type": "code",
   "execution_count": 123,
   "id": "99231889",
   "metadata": {},
   "outputs": [],
   "source": [
    "import zipfile"
   ]
  },
  {
   "cell_type": "code",
   "execution_count": 124,
   "id": "3ec1c566",
   "metadata": {},
   "outputs": [
    {
     "name": "stdout",
     "output_type": "stream",
     "text": [
      "Pasta compactada com sucesso!\n"
     ]
    }
   ],
   "source": [
    "import zipfile\n",
    "import os\n",
    "\n",
    "def zip_folder(folder_path, output_path):\n",
    "    with zipfile.ZipFile(output_path, 'w', zipfile.ZIP_DEFLATED) as zipf:\n",
    "        for root, _, files in os.walk(folder_path):\n",
    "            for file in files:\n",
    "                file_path = os.path.join(root, file)\n",
    "                arcname = os.path.relpath(file_path, folder_path)  # Mantém a estrutura de diretórios\n",
    "                zipf.write(file_path, arcname)\n",
    "\n",
    "folder_to_zip = './datasets/cropped_faces/'\n",
    "output_zip_file = './datasets/cropped_faces.zip'\n",
    "\n",
    "zip_folder(folder_to_zip, output_zip_file)\n",
    "print('Pasta compactada com sucesso!')\n"
   ]
  },
  {
   "cell_type": "code",
   "execution_count": null,
   "id": "fd8d51a0",
   "metadata": {},
   "outputs": [],
   "source": []
  }
 ],
 "metadata": {
  "kernelspec": {
   "display_name": "Python 3 (ipykernel)",
   "language": "python",
   "name": "python3"
  },
  "language_info": {
   "codemirror_mode": {
    "name": "ipython",
    "version": 3
   },
   "file_extension": ".py",
   "mimetype": "text/x-python",
   "name": "python",
   "nbconvert_exporter": "python",
   "pygments_lexer": "ipython3",
   "version": "3.10.9"
  }
 },
 "nbformat": 4,
 "nbformat_minor": 5
}
