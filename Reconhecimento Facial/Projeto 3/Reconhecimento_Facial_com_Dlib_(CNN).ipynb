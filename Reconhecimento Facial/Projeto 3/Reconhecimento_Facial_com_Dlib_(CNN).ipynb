{
  "nbformat": 4,
  "nbformat_minor": 0,
  "metadata": {
    "colab": {
      "provenance": [],
      "gpuType": "T4"
    },
    "kernelspec": {
      "name": "python3",
      "display_name": "Python 3"
    },
    "language_info": {
      "name": "python"
    },
    "accelerator": "GPU"
  },
  "cells": [
    {
      "cell_type": "markdown",
      "source": [
        "## Bibliotecas"
      ],
      "metadata": {
        "id": "FIJg0ofX3H48"
      }
    },
    {
      "cell_type": "code",
      "source": [
        "import numpy as np\n",
        "import cv2\n",
        "import zipfile\n",
        "import dlib\n",
        "import os\n",
        "import shutil"
      ],
      "metadata": {
        "id": "RZ8ewvBB3KvK"
      },
      "execution_count": 58,
      "outputs": []
    },
    {
      "cell_type": "markdown",
      "source": [
        "## Extração da Base de Dados"
      ],
      "metadata": {
        "id": "c6POA-L23pSY"
      }
    },
    {
      "cell_type": "code",
      "execution_count": 59,
      "metadata": {
        "id": "06kbDrhv1d3V"
      },
      "outputs": [],
      "source": [
        "pasta_arquivos = '/content/drive/MyDrive/Visão Computacional Guia Completo/Visão Computacional Guia Completo/Datasets/cropped_faces.zip'\n",
        "\n",
        "with zipfile.ZipFile(file=pasta_arquivos, mode='r') as z:\n",
        "    z.extractall('./imagens/')"
      ]
    },
    {
      "cell_type": "markdown",
      "source": [
        "## Divisão da Base de Dados em treino e teste"
      ],
      "metadata": {
        "id": "tHq3j0u83pNP"
      }
    },
    {
      "cell_type": "code",
      "source": [
        "pasta = '/content/imagens'\n",
        "pasta_imagens = [os.path.join(pasta, f) for f in os.listdir(pasta)]"
      ],
      "metadata": {
        "id": "t5H-ER5f3Kss"
      },
      "execution_count": 73,
      "outputs": []
    },
    {
      "cell_type": "code",
      "source": [
        "# Criar pastas se nao existir\n",
        "if (not os.path.exists('./cropped_faces/train/')) and (not os.path.exists('./cropped_faces/test/')):\n",
        "    os.makedirs('./cropped_faces/train/')\n",
        "    os.makedirs('./cropped_faces/test/')\n",
        "    print(f\"As pastas foram criadas com sucesso.\")\n",
        "else:\n",
        "    print(f\"As pastas de já existem.\")"
      ],
      "metadata": {
        "colab": {
          "base_uri": "https://localhost:8080/"
        },
        "id": "qg-38CYmFKth",
        "outputId": "f22b7201-47ff-4ca1-b5e9-de31ad9f7c27"
      },
      "execution_count": 74,
      "outputs": [
        {
          "output_type": "stream",
          "name": "stdout",
          "text": [
            "As pastas foram criadas com sucesso.\n"
          ]
        }
      ]
    },
    {
      "cell_type": "code",
      "source": [
        "for path in pasta_imagens:\n",
        "    nome_imagens = int(os.path.basename(path).split('.')[0][-2:])\n",
        "    # Adicionamos imagens nas pastas corretas de treino e teste\n",
        "    if nome_imagens <= 10:\n",
        "        if os.path.isfile(path):\n",
        "            shutil.copy(path, './cropped_faces/train/')\n",
        "    else:\n",
        "        if os.path.isfile(path):\n",
        "            shutil.copy(path, './cropped_faces/test/')"
      ],
      "metadata": {
        "id": "AJOPJiYe3KqC"
      },
      "execution_count": 87,
      "outputs": []
    },
    {
      "cell_type": "code",
      "source": [
        "detector_facial = dlib.get_frontal_face_detector()\n",
        "detector_pontos_faciais = dlib.shape_predictor('/content/drive/MyDrive/Visão Computacional Guia Completo/Visão Computacional Guia Completo/Weights/shape_predictor_68_face_landmarks.dat')\n",
        "extrator_pontos_faciais = dlib.face_recognition_model_v1('/content/drive/MyDrive/Visão Computacional Guia Completo/Visão Computacional Guia Completo/Weights/Cópia de dlib_face_recognition_resnet_model_v1.dat')"
      ],
      "metadata": {
        "id": "8eS8mte0LxY1"
      },
      "execution_count": 123,
      "outputs": []
    },
    {
      "cell_type": "code",
      "source": [
        "def extrator_descritores(path):\n",
        "    paths = [os.path.join(path, f) for f in os.listdir(path)]\n",
        "\n",
        "    descritores_faciais = None\n",
        "    ids = []\n",
        "    imagens = []\n",
        "    for path in paths:\n",
        "        imagem = cv2.imread(path)\n",
        "        imagem = cv2.resize(imagem, (200,200))\n",
        "        imagem_np = np.array(imagem, 'uint8')\n",
        "\n",
        "        ids.append(int(os.path.basename(path).split('_')[0][-2:]))\n",
        "        imagens.append(imagem_np)\n",
        "\n",
        "        deteccao = detector_facial(imagem_np, 1)\n",
        "        for face in deteccao:\n",
        "            (l,t,r,b) = face.left(), face.top(), face.right(), face.bottom()\n",
        "            cv2.rectangle(imagem_np, (l,t),(r,b), (0,255,0), 1)\n",
        "            pontos = detector_pontos_faciais(imagem_np, face)\n",
        "            for ponto in pontos.parts():\n",
        "                (ponto_x, ponto_y) = ponto.x, ponto.y\n",
        "                cv2.circle(imagem_np, (ponto_x, ponto_y), 1, (0,255,0), 1)\n",
        "            descritor_facial = extrator_pontos_faciais.compute_face_descriptor(imagem_np, pontos)\n",
        "            descritor_facial = np.asarray(descritor_facial, dtype=np.float64)\n",
        "            descritor_facial = descritor_facial[np.newaxis, :]\n",
        "\n",
        "            if descritores_faciais is None:\n",
        "                descritores_faciais = descritor_facial\n",
        "            else:\n",
        "                descritores_faciais = np.concatenate((descritores_faciais, descritor_facial), axis=0)\n",
        "\n",
        "            if\n",
        "    return descritores_faciais, np.array(ids), np.array(imagens)"
      ],
      "metadata": {
        "id": "emoxn7pN2_3F"
      },
      "execution_count": 134,
      "outputs": []
    },
    {
      "cell_type": "code",
      "source": [
        "pasta_treino = '/content/cropped_faces/train'\n",
        "\n",
        "descritores_faciais, ids, imagens = extrator_descritores(pasta_treino)"
      ],
      "metadata": {
        "id": "tya40s-V9VBM"
      },
      "execution_count": 135,
      "outputs": []
    },
    {
      "cell_type": "code",
      "source": [
        "descritores_faciais.shape"
      ],
      "metadata": {
        "colab": {
          "base_uri": "https://localhost:8080/"
        },
        "id": "bJ3dXpvYM1me",
        "outputId": "e72986c6-5fec-4b2e-9575-58c7be641b8f"
      },
      "execution_count": 136,
      "outputs": [
        {
          "output_type": "execute_result",
          "data": {
            "text/plain": [
              "(378, 128)"
            ]
          },
          "metadata": {},
          "execution_count": 136
        }
      ]
    },
    {
      "cell_type": "code",
      "source": [
        "ids.shape"
      ],
      "metadata": {
        "colab": {
          "base_uri": "https://localhost:8080/"
        },
        "id": "ZsIck5iFPqt-",
        "outputId": "990b0f22-cbe7-4722-f719-2a01ceb128dd"
      },
      "execution_count": 131,
      "outputs": [
        {
          "output_type": "execute_result",
          "data": {
            "text/plain": [
              "(500,)"
            ]
          },
          "metadata": {},
          "execution_count": 131
        }
      ]
    },
    {
      "cell_type": "code",
      "source": [
        "imagens.shape"
      ],
      "metadata": {
        "colab": {
          "base_uri": "https://localhost:8080/"
        },
        "id": "fGB3aPu0PrYt",
        "outputId": "4c2b1a69-bfe4-43dd-cbdf-5ef1c663b9f6"
      },
      "execution_count": 133,
      "outputs": [
        {
          "output_type": "execute_result",
          "data": {
            "text/plain": [
              "(500, 180, 180, 3)"
            ]
          },
          "metadata": {},
          "execution_count": 133
        }
      ]
    },
    {
      "cell_type": "code",
      "source": [
        "pasta_treino = '/content/cropped_faces/train'\n",
        "paths = [os.path.join(pasta_treino, f) for f in os.listdir(pasta_treino)]\n",
        "for i in paths:\n",
        "    print(i)\n",
        "\n",
        "len(paths)"
      ],
      "metadata": {
        "id": "xAeLSupSP1cT"
      },
      "execution_count": null,
      "outputs": []
    },
    {
      "cell_type": "code",
      "source": [],
      "metadata": {
        "id": "qlumetZnP3ya"
      },
      "execution_count": null,
      "outputs": []
    }
  ]
}