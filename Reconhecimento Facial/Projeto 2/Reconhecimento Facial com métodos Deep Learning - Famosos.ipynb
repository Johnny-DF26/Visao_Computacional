{
 "cells": [
  {
   "cell_type": "markdown",
   "id": "4ed39ff5",
   "metadata": {},
   "source": [
    "# Reconhecimento Facial (Dlib) com métodos Deep Learning - Famosos"
   ]
  },
  {
   "cell_type": "markdown",
   "id": "a4e90dd1",
   "metadata": {},
   "source": [
    "### Essa abordagem vamos utilizar uma técnica para treinamento de imagens de uma base de dados de famosos. Com ela vamos fazer a detecção facial e colocar os pontos faciais em uma rede neural convolucional, e vamos avaliar essa base de dados com dados novos para reconhecimento dessas imagens"
   ]
  },
  {
   "cell_type": "markdown",
   "id": "16bca8f9",
   "metadata": {},
   "source": [
    "## Importação das Bibliotecas"
   ]
  },
  {
   "cell_type": "code",
   "execution_count": null,
   "id": "6281fa34",
   "metadata": {},
   "outputs": [],
   "source": [
    "import dlib\n",
    "import cv2\n",
    "import numpy as np\n",
    "from google.colab.patches import cv2_imshow\n",
    "from PIL import Image\n",
    "import zipfile\n",
    "import os\n",
    "import imutils\n",
    "import pickle\n",
    "from sklearn.metrics import accuracy_score"
   ]
  },
  {
   "cell_type": "markdown",
   "id": "8b1aebd2",
   "metadata": {},
   "source": [
    "## Base de Dados"
   ]
  },
  {
   "cell_type": "code",
   "execution_count": null,
   "id": "fb409a16",
   "metadata": {},
   "outputs": [],
   "source": [
    "path = '/content/celeb_dataset.zip'\n",
    "with zipfile.ZipFile(file=path, mode='r') as z:\n",
    "    z.extractall('./')"
   ]
  },
  {
   "cell_type": "markdown",
   "id": "bca910d3",
   "metadata": {},
   "source": [
    "## Detecção dos Descritores Faciais"
   ]
  },
  {
   "cell_type": "code",
   "execution_count": null,
   "id": "e52bfac3",
   "metadata": {},
   "outputs": [],
   "source": [
    "detector_facial = dlib.get_frontal_face_detector()\n",
    "detector_pontos_faciais = dlib.shape_predictor('/content/shape_predictor_68_face_landmarks.dat')\n",
    "extrator_descritor_facial = dlib.face_recognition_model_v1('/content/dlib_face_recognition_resnet_model_v1.dat')"
   ]
  },
  {
   "cell_type": "code",
   "execution_count": null,
   "id": "acbccf29",
   "metadata": {},
   "outputs": [],
   "source": [
    "def carrega_treinamento(path_dataset, max_width=400):\n",
    "    index = {}\n",
    "    idx = 0\n",
    "    descritores_faces = None\n",
    "\n",
    "    subdirs = [os.path.join(path_dataset, f) for f in os.listdir(path_dataset)]\n",
    "\n",
    "    for subdir in subdirs:\n",
    "        nome = subdir.split(os.path.sep)[-1]\n",
    "        # print(nome)\n",
    "        lista_imagens = [os.path.join(subdir, f)for f in os.listdir(subdir) if os.path.isfile]\n",
    "        for imagem_path in lista_imagens:\n",
    "            imagem = Image.open(imagem_path).convert('RGB')\n",
    "            imagem_np = np.array(imagem, 'uint8')\n",
    "\n",
    "            if (imagem_np.shape[1] > max_width):\n",
    "                imagem_np = imutils.resize(imagem_np, width=max_width)\n",
    "\n",
    "            deteccoes_faces = detector_facial(imagem_np, 1)\n",
    "            for face in deteccoes_faces:\n",
    "                (l,t,r,b) = face.left(), face.top(), face.right(), face.bottom()\n",
    "                cv2.rectangle(imagem_np, (l,t),(r,b), (0,255,0), 2)\n",
    "                pontos = detector_pontos_faciais(imagem_np, face)\n",
    "                descritor_facial = extrator_descritor_facial.compute_face_descriptor(imagem_np, pontos)\n",
    "                descritor_facial = [f for f in descritor_facial]\n",
    "                descritor_facial = np.asarray(descritor_facial)\n",
    "                descritor_facial = descritor_facial[np.newaxis, :]\n",
    "                if descritores_faces is None:\n",
    "                    descritores_faces = descritor_facial\n",
    "                else:\n",
    "                    descritores_faces = np.concatenate((descritores_faces, descritor_facial), axis=0)\n",
    "                index[idx] = imagem_path\n",
    "                idx += 1\n",
    "\n",
    "            cv2_imshow(cv2.cvtColor(imagem_np, cv2.COLOR_RGB2BGR))\n",
    "\n",
    "    return descritores_faces, index"
   ]
  },
  {
   "cell_type": "code",
   "execution_count": null,
   "id": "9968672e",
   "metadata": {},
   "outputs": [],
   "source": [
    "descritores_faces, index = carrega_treinamento('/content/celeb_dataset/train', max_width=400)"
   ]
  },
  {
   "cell_type": "code",
   "execution_count": null,
   "id": "7ea6878f",
   "metadata": {},
   "outputs": [],
   "source": [
    "descritores_faces.shape"
   ]
  },
  {
   "cell_type": "code",
   "execution_count": null,
   "id": "ae179544",
   "metadata": {},
   "outputs": [],
   "source": [
    "index"
   ]
  },
  {
   "cell_type": "markdown",
   "id": "6d74f6bc",
   "metadata": {},
   "source": [
    "## Salvando os descritores e os indexs das imagens"
   ]
  },
  {
   "cell_type": "code",
   "execution_count": null,
   "id": "e3520d89",
   "metadata": {},
   "outputs": [],
   "source": [
    "np.save('dataset_face_descriptors.npy', descritores_faces)\n",
    "with open('dataset_images_index.pickle', 'wb') as p:\n",
    "    pickle.dump(index, p)"
   ]
  },
  {
   "cell_type": "markdown",
   "id": "290502b4",
   "metadata": {},
   "source": [
    "## Carregando o modelo salvo"
   ]
  },
  {
   "cell_type": "code",
   "execution_count": null,
   "id": "8485c612",
   "metadata": {},
   "outputs": [],
   "source": [
    "descritores = np.load('/content/dataset_face_descriptors.npy', 'r')\n",
    "index = np.load('/content/dataset_images_index.pickle', allow_pickle=True)"
   ]
  },
  {
   "cell_type": "markdown",
   "id": "90f18276",
   "metadata": {},
   "source": [
    "## Fazendo a previsão na Base de Teste"
   ]
  },
  {
   "cell_type": "code",
   "execution_count": null,
   "id": "a8fc5de0",
   "metadata": {},
   "outputs": [],
   "source": [
    "def previsoes_dlib(path_dataset, descritores_faces, index, show_imgs= True, threshold=0.5, max_width=700):\n",
    "    previsoes = []\n",
    "    saidas_esperadas = []\n",
    "\n",
    "    subdirs = [os.path.join(path_dataset, f) for f in os.listdir(path_dataset)]\n",
    "\n",
    "    for subdir in subdirs:\n",
    "        imagens_paths = [os.path.join(subdir, f) for f in os.listdir(subdir)]\n",
    "        for imagem_path in imagens_paths:\n",
    "            imagem = cv2.imread(imagem_path)\n",
    "            imagem_rgb = cv2.cvtColor(imagem, cv2.COLOR_BGR2RGB)\n",
    "            imagem_np = np.array(imagem_rgb)\n",
    "\n",
    "            if (imagem_np.shape[1] > max_width):\n",
    "                imagem_np = imutils.resize(imagem_np, width=max_width)\n",
    "            (h,w) = imagem_np.shape[:2]\n",
    "\n",
    "            detector = detector_facial(imagem_np, 1)\n",
    "            for face in detector:\n",
    "                (l,t,r,b) = face.left(), face.top(), face.right(), face.bottom()\n",
    "                pontos = detector_pontos_faciais(imagem_np, face)\n",
    "                descritor = extrator_descritor_facial.compute_face_descriptor(imagem_np, pontos)\n",
    "                descritor = [f for f in descritor]\n",
    "                descritor = np.asarray(descritor)\n",
    "                descritor = descritor[np.newaxis, :]\n",
    "                cv2.rectangle(imagem_np, (l,t),(r,b), (0,255,0), 1)\n",
    "        \n",
    "                distancias = np.linalg.norm((descritor - descritores_faces), axis=1)\n",
    "                min_index = np.argmin(distancias)\n",
    "                distancia_min = distancias[min_index]\n",
    "\n",
    "                if distancia_min < threshold:\n",
    "                    nome_previsao = os.path.basename(index[min_index]).split('.')[0][:-2]\n",
    "                else:\n",
    "                    nome_previsao = 'Nao identificado'\n",
    "\n",
    "                nome_real = os.path.basename(imagem_path).split('.')[0].split('_')[0]\n",
    "\n",
    "                previsoes.append(nome_previsao)\n",
    "                saidas_esperadas.append(nome_real)\n",
    "\n",
    "\n",
    "                cv2.putText(imagem_np, \"Previsao: \"+ str(nome_previsao), (10,30), cv2.FONT_HERSHEY_SIMPLEX, 0.8, (0,255,0), 2)\n",
    "                cv2.putText(imagem_np, \"Real: \"+ str(nome_real), (10,50), cv2.FONT_HERSHEY_SIMPLEX, 0.8, (0,255,0), 2)\n",
    "                cv2.putText(imagem_np, str(distancia_min), (10,h - 30), cv2.FONT_HERSHEY_SIMPLEX, 0.6, (0,244,0))\n",
    "\n",
    "            if show_imgs is True:\n",
    "                cv2_imshow(cv2.cvtColor(imagem_np, cv2.COLOR_BGR2RGB))\n",
    "\n",
    "    return previsoes, saidas_esperadas"
   ]
  },
  {
   "cell_type": "code",
   "execution_count": null,
   "id": "7a9fd87c",
   "metadata": {},
   "outputs": [],
   "source": [
    "path_dataset = '/content/celeb_dataset/test'\n",
    "previsoes, saidas_esperadas = previsoes_dlib(path_dataset, descritores_faces, index, show_imgs= False, threshold=0.6)"
   ]
  },
  {
   "cell_type": "markdown",
   "id": "183be524",
   "metadata": {},
   "source": [
    "## Avaliação do Modelo"
   ]
  },
  {
   "cell_type": "code",
   "execution_count": 2,
   "id": "5b3dd52e",
   "metadata": {},
   "outputs": [
    {
     "ename": "NameError",
     "evalue": "name 'previsoes' is not defined",
     "output_type": "error",
     "traceback": [
      "\u001b[1;31m---------------------------------------------------------------------------\u001b[0m",
      "\u001b[1;31mNameError\u001b[0m                                 Traceback (most recent call last)",
      "Cell \u001b[1;32mIn[2], line 2\u001b[0m\n\u001b[0;32m      1\u001b[0m \u001b[38;5;28;01mfrom\u001b[39;00m \u001b[38;5;21;01msklearn\u001b[39;00m\u001b[38;5;21;01m.\u001b[39;00m\u001b[38;5;21;01mmetrics\u001b[39;00m \u001b[38;5;28;01mimport\u001b[39;00m accuracy_score\n\u001b[1;32m----> 2\u001b[0m accuracy_score(\u001b[43mprevisoes\u001b[49m, saidas_esperadas)\n",
      "\u001b[1;31mNameError\u001b[0m: name 'previsoes' is not defined"
     ]
    }
   ],
   "source": [
    "accuracy_score(previsoes, saidas_esperadas)"
   ]
  },
  {
   "cell_type": "markdown",
   "id": "e8ac7cd9",
   "metadata": {},
   "source": [
    "# -----------------------------------------------------------------------------------------------------------"
   ]
  },
  {
   "cell_type": "markdown",
   "id": "79704401",
   "metadata": {},
   "source": [
    "## Com avaliação dos resultados obtemos 100 % de acurácia com a Biblioteca Dlib utilizando rede neurais Convulocionais"
   ]
  }
 ],
 "metadata": {
  "kernelspec": {
   "display_name": "Python 3 (ipykernel)",
   "language": "python",
   "name": "python3"
  },
  "language_info": {
   "codemirror_mode": {
    "name": "ipython",
    "version": 3
   },
   "file_extension": ".py",
   "mimetype": "text/x-python",
   "name": "python",
   "nbconvert_exporter": "python",
   "pygments_lexer": "ipython3",
   "version": "3.10.9"
  }
 },
 "nbformat": 4,
 "nbformat_minor": 5
}
